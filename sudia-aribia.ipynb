{
 "cells": [
  {
   "cell_type": "code",
   "execution_count": 1,
   "id": "6216af98",
   "metadata": {
    "_cell_guid": "b1076dfc-b9ad-4769-8c92-a6c4dae69d19",
    "_uuid": "8f2839f25d086af736a60e9eeb907d3b93b6e0e5",
    "execution": {
     "iopub.execute_input": "2023-11-12T00:43:59.779274Z",
     "iopub.status.busy": "2023-11-12T00:43:59.778742Z",
     "iopub.status.idle": "2023-11-12T00:44:00.300769Z",
     "shell.execute_reply": "2023-11-12T00:44:00.299241Z"
    },
    "papermill": {
     "duration": 0.549295,
     "end_time": "2023-11-12T00:44:00.304487",
     "exception": false,
     "start_time": "2023-11-12T00:43:59.755192",
     "status": "completed"
    },
    "tags": []
   },
   "outputs": [],
   "source": [
    "import numpy as np \n",
    "import pandas as pd\n",
    "import matplotlib.pyplot as plt\n",
    "plt.style.use('ggplot') "
   ]
  },
  {
   "cell_type": "markdown",
   "id": "3ffd0f3a",
   "metadata": {
    "papermill": {
     "duration": 0.021292,
     "end_time": "2023-11-12T00:44:00.348225",
     "exception": false,
     "start_time": "2023-11-12T00:44:00.326933",
     "status": "completed"
    },
    "tags": []
   },
   "source": [
    "# A bout the data :\n",
    "We make scraping the data from the Aribnb web site from suadi the data have sevene columns :\n",
    "- url: the url of the items that have all the data \n",
    "- name: the name of department\n",
    "- header: the loaction of the place\n",
    "- beds: the numbers of the beds in the departments\n",
    "- bedrooms : the numbers of the rooms in departments\n",
    "- date_range: how many day you will be stay in the departments\n",
    "- price:  the price of staying in  the department\n",
    "- rating: the rating of the people a bout the place "
   ]
  },
  {
   "cell_type": "markdown",
   "id": "cdb8dcf7",
   "metadata": {
    "papermill": {
     "duration": 0.024123,
     "end_time": "2023-11-12T00:44:00.397307",
     "exception": false,
     "start_time": "2023-11-12T00:44:00.373184",
     "status": "completed"
    },
    "tags": []
   },
   "source": [
    "**import libraries**"
   ]
  },
  {
   "cell_type": "markdown",
   "id": "f7b59229",
   "metadata": {
    "papermill": {
     "duration": 0.021429,
     "end_time": "2023-11-12T00:44:00.439884",
     "exception": false,
     "start_time": "2023-11-12T00:44:00.418455",
     "status": "completed"
    },
    "tags": []
   },
   "source": [
    "**Read csv file** "
   ]
  },
  {
   "cell_type": "code",
   "execution_count": 2,
   "id": "11d2c870",
   "metadata": {
    "execution": {
     "iopub.execute_input": "2023-11-12T00:44:00.486414Z",
     "iopub.status.busy": "2023-11-12T00:44:00.485320Z",
     "iopub.status.idle": "2023-11-12T00:44:00.562087Z",
     "shell.execute_reply": "2023-11-12T00:44:00.561060Z"
    },
    "papermill": {
     "duration": 0.102711,
     "end_time": "2023-11-12T00:44:00.565218",
     "exception": false,
     "start_time": "2023-11-12T00:44:00.462507",
     "status": "completed"
    },
    "tags": []
   },
   "outputs": [],
   "source": [
    "data = pd.read_csv(\"/kaggle/input/suida-arabia/suadi_homes (3).csv\")"
   ]
  },
  {
   "cell_type": "markdown",
   "id": "deaa3759",
   "metadata": {
    "papermill": {
     "duration": 0.02069,
     "end_time": "2023-11-12T00:44:00.607232",
     "exception": false,
     "start_time": "2023-11-12T00:44:00.586542",
     "status": "completed"
    },
    "tags": []
   },
   "source": [
    "**Show the five first rows in the data**"
   ]
  },
  {
   "cell_type": "code",
   "execution_count": 3,
   "id": "9bb4caf0",
   "metadata": {
    "execution": {
     "iopub.execute_input": "2023-11-12T00:44:00.652878Z",
     "iopub.status.busy": "2023-11-12T00:44:00.651912Z",
     "iopub.status.idle": "2023-11-12T00:44:00.682615Z",
     "shell.execute_reply": "2023-11-12T00:44:00.681315Z"
    },
    "papermill": {
     "duration": 0.056767,
     "end_time": "2023-11-12T00:44:00.685551",
     "exception": false,
     "start_time": "2023-11-12T00:44:00.628784",
     "status": "completed"
    },
    "tags": []
   },
   "outputs": [
    {
     "data": {
      "text/html": [
       "<div>\n",
       "<style scoped>\n",
       "    .dataframe tbody tr th:only-of-type {\n",
       "        vertical-align: middle;\n",
       "    }\n",
       "\n",
       "    .dataframe tbody tr th {\n",
       "        vertical-align: top;\n",
       "    }\n",
       "\n",
       "    .dataframe thead th {\n",
       "        text-align: right;\n",
       "    }\n",
       "</style>\n",
       "<table border=\"1\" class=\"dataframe\">\n",
       "  <thead>\n",
       "    <tr style=\"text-align: right;\">\n",
       "      <th></th>\n",
       "      <th>url</th>\n",
       "      <th>name</th>\n",
       "      <th>header</th>\n",
       "      <th>beds</th>\n",
       "      <th>bedrooms</th>\n",
       "      <th>date_range</th>\n",
       "      <th>price</th>\n",
       "      <th>rating</th>\n",
       "    </tr>\n",
       "  </thead>\n",
       "  <tbody>\n",
       "    <tr>\n",
       "      <th>0</th>\n",
       "      <td>/rooms/848454289694032688?adults=4&amp;category_ta...</td>\n",
       "      <td>Saleh's Cottage Saleh Cottage</td>\n",
       "      <td>Cabin in Samha</td>\n",
       "      <td>Saleh's Cottage Saleh Cottage</td>\n",
       "      <td>6 beds,  · 2 bedrooms</td>\n",
       "      <td>Nov 12 – 17</td>\n",
       "      <td>$266</td>\n",
       "      <td>NaN</td>\n",
       "    </tr>\n",
       "    <tr>\n",
       "      <th>1</th>\n",
       "      <td>/rooms/909897785656634809?adults=4&amp;category_ta...</td>\n",
       "      <td>Cypress cottage</td>\n",
       "      <td>Hut in Tabab</td>\n",
       "      <td>Cypress cottage</td>\n",
       "      <td>3 beds,  · 2 bedrooms</td>\n",
       "      <td>May 1 – 6</td>\n",
       "      <td>$1,066</td>\n",
       "      <td>NaN</td>\n",
       "    </tr>\n",
       "    <tr>\n",
       "      <th>2</th>\n",
       "      <td>/rooms/998608123216787130?adults=4&amp;category_ta...</td>\n",
       "      <td>Qishla</td>\n",
       "      <td>Apartment in Riyadh</td>\n",
       "      <td>Qishla</td>\n",
       "      <td>2 beds,  · 2 bedrooms</td>\n",
       "      <td>Dec 15 – 20</td>\n",
       "      <td>$162</td>\n",
       "      <td>5.0 (3)</td>\n",
       "    </tr>\n",
       "    <tr>\n",
       "      <th>3</th>\n",
       "      <td>/rooms/53641292?adults=4&amp;category_tag=Tag%3A67...</td>\n",
       "      <td>Exhibitor NeighborhoodThe Green (Self-entry)</td>\n",
       "      <td>Chalet in Riyadh</td>\n",
       "      <td>Exhibitor NeighborhoodThe Green (Self-entry)</td>\n",
       "      <td>Verified fast wifi</td>\n",
       "      <td>Nov 12 – 17</td>\n",
       "      <td>$205</td>\n",
       "      <td>4.86 (177)</td>\n",
       "    </tr>\n",
       "    <tr>\n",
       "      <th>4</th>\n",
       "      <td>/rooms/674270986363639521?adults=4&amp;category_ta...</td>\n",
       "      <td>Mabaat -  Al Narjis - 424</td>\n",
       "      <td>Apartment in Riyadh</td>\n",
       "      <td>Mabaat -  Al Narjis - 424</td>\n",
       "      <td>3 beds,  · 2 bedrooms</td>\n",
       "      <td>Nov 12 – 17</td>\n",
       "      <td>$244</td>\n",
       "      <td>4.28 (40)</td>\n",
       "    </tr>\n",
       "  </tbody>\n",
       "</table>\n",
       "</div>"
      ],
      "text/plain": [
       "                                                 url  \\\n",
       "0  /rooms/848454289694032688?adults=4&category_ta...   \n",
       "1  /rooms/909897785656634809?adults=4&category_ta...   \n",
       "2  /rooms/998608123216787130?adults=4&category_ta...   \n",
       "3  /rooms/53641292?adults=4&category_tag=Tag%3A67...   \n",
       "4  /rooms/674270986363639521?adults=4&category_ta...   \n",
       "\n",
       "                                           name               header  \\\n",
       "0                 Saleh's Cottage Saleh Cottage       Cabin in Samha   \n",
       "1                               Cypress cottage         Hut in Tabab   \n",
       "2                                        Qishla  Apartment in Riyadh   \n",
       "3  Exhibitor NeighborhoodThe Green (Self-entry)     Chalet in Riyadh   \n",
       "4                     Mabaat -  Al Narjis - 424  Apartment in Riyadh   \n",
       "\n",
       "                                           beds               bedrooms  \\\n",
       "0                 Saleh's Cottage Saleh Cottage  6 beds,  · 2 bedrooms   \n",
       "1                               Cypress cottage  3 beds,  · 2 bedrooms   \n",
       "2                                        Qishla  2 beds,  · 2 bedrooms   \n",
       "3  Exhibitor NeighborhoodThe Green (Self-entry)     Verified fast wifi   \n",
       "4                     Mabaat -  Al Narjis - 424  3 beds,  · 2 bedrooms   \n",
       "\n",
       "    date_range   price      rating  \n",
       "0  Nov 12 – 17    $266         NaN  \n",
       "1    May 1 – 6  $1,066         NaN  \n",
       "2  Dec 15 – 20    $162     5.0 (3)  \n",
       "3  Nov 12 – 17    $205  4.86 (177)  \n",
       "4  Nov 12 – 17    $244   4.28 (40)  "
      ]
     },
     "execution_count": 3,
     "metadata": {},
     "output_type": "execute_result"
    }
   ],
   "source": [
    "data.head()"
   ]
  },
  {
   "cell_type": "markdown",
   "id": "ee8f1ee4",
   "metadata": {
    "papermill": {
     "duration": 0.021779,
     "end_time": "2023-11-12T00:44:00.728948",
     "exception": false,
     "start_time": "2023-11-12T00:44:00.707169",
     "status": "completed"
    },
    "tags": []
   },
   "source": [
    "**Show how many missing values in the columns** "
   ]
  },
  {
   "cell_type": "code",
   "execution_count": 4,
   "id": "ada0c79a",
   "metadata": {
    "execution": {
     "iopub.execute_input": "2023-11-12T00:44:00.774856Z",
     "iopub.status.busy": "2023-11-12T00:44:00.773890Z",
     "iopub.status.idle": "2023-11-12T00:44:00.789314Z",
     "shell.execute_reply": "2023-11-12T00:44:00.787799Z"
    },
    "papermill": {
     "duration": 0.041713,
     "end_time": "2023-11-12T00:44:00.792315",
     "exception": false,
     "start_time": "2023-11-12T00:44:00.750602",
     "status": "completed"
    },
    "tags": []
   },
   "outputs": [
    {
     "data": {
      "text/plain": [
       "url             0\n",
       "name            0\n",
       "header          0\n",
       "beds            0\n",
       "bedrooms        0\n",
       "date_range      0\n",
       "price         854\n",
       "rating         46\n",
       "dtype: int64"
      ]
     },
     "execution_count": 4,
     "metadata": {},
     "output_type": "execute_result"
    }
   ],
   "source": [
    "data.isnull().sum()"
   ]
  },
  {
   "cell_type": "markdown",
   "id": "77bdcc43",
   "metadata": {
    "papermill": {
     "duration": 0.021862,
     "end_time": "2023-11-12T00:44:00.836945",
     "exception": false,
     "start_time": "2023-11-12T00:44:00.815083",
     "status": "completed"
    },
    "tags": []
   },
   "source": [
    "**Drop all the none value in the rows**"
   ]
  },
  {
   "cell_type": "code",
   "execution_count": 5,
   "id": "3c808317",
   "metadata": {
    "execution": {
     "iopub.execute_input": "2023-11-12T00:44:00.980220Z",
     "iopub.status.busy": "2023-11-12T00:44:00.979099Z",
     "iopub.status.idle": "2023-11-12T00:44:00.994068Z",
     "shell.execute_reply": "2023-11-12T00:44:00.993033Z"
    },
    "papermill": {
     "duration": 0.041584,
     "end_time": "2023-11-12T00:44:00.996949",
     "exception": false,
     "start_time": "2023-11-12T00:44:00.955365",
     "status": "completed"
    },
    "tags": []
   },
   "outputs": [],
   "source": [
    "data.dropna(inplace=True)"
   ]
  },
  {
   "cell_type": "markdown",
   "id": "87b4546a",
   "metadata": {
    "papermill": {
     "duration": 0.021499,
     "end_time": "2023-11-12T00:44:01.040635",
     "exception": false,
     "start_time": "2023-11-12T00:44:01.019136",
     "status": "completed"
    },
    "tags": []
   },
   "source": [
    "**Get some information a bout the data**"
   ]
  },
  {
   "cell_type": "code",
   "execution_count": 6,
   "id": "0fd4dfcc",
   "metadata": {
    "execution": {
     "iopub.execute_input": "2023-11-12T00:44:01.087407Z",
     "iopub.status.busy": "2023-11-12T00:44:01.086822Z",
     "iopub.status.idle": "2023-11-12T00:44:01.118238Z",
     "shell.execute_reply": "2023-11-12T00:44:01.117374Z"
    },
    "papermill": {
     "duration": 0.058082,
     "end_time": "2023-11-12T00:44:01.121067",
     "exception": false,
     "start_time": "2023-11-12T00:44:01.062985",
     "status": "completed"
    },
    "tags": []
   },
   "outputs": [
    {
     "name": "stdout",
     "output_type": "stream",
     "text": [
      "<class 'pandas.core.frame.DataFrame'>\n",
      "Index: 2702 entries, 2 to 3599\n",
      "Data columns (total 8 columns):\n",
      " #   Column      Non-Null Count  Dtype \n",
      "---  ------      --------------  ----- \n",
      " 0   url         2702 non-null   object\n",
      " 1   name        2702 non-null   object\n",
      " 2   header      2702 non-null   object\n",
      " 3   beds        2702 non-null   object\n",
      " 4   bedrooms    2702 non-null   object\n",
      " 5   date_range  2702 non-null   object\n",
      " 6   price       2702 non-null   object\n",
      " 7   rating      2702 non-null   object\n",
      "dtypes: object(8)\n",
      "memory usage: 190.0+ KB\n"
     ]
    }
   ],
   "source": [
    "data.info()"
   ]
  },
  {
   "cell_type": "markdown",
   "id": "f41852e4",
   "metadata": {
    "papermill": {
     "duration": 0.021344,
     "end_time": "2023-11-12T00:44:01.164819",
     "exception": false,
     "start_time": "2023-11-12T00:44:01.143475",
     "status": "completed"
    },
    "tags": []
   },
   "source": [
    "**Get some Statstics information**"
   ]
  },
  {
   "cell_type": "code",
   "execution_count": 7,
   "id": "9f5bb5f5",
   "metadata": {
    "execution": {
     "iopub.execute_input": "2023-11-12T00:44:01.211393Z",
     "iopub.status.busy": "2023-11-12T00:44:01.210294Z",
     "iopub.status.idle": "2023-11-12T00:44:01.250020Z",
     "shell.execute_reply": "2023-11-12T00:44:01.248679Z"
    },
    "papermill": {
     "duration": 0.066251,
     "end_time": "2023-11-12T00:44:01.253074",
     "exception": false,
     "start_time": "2023-11-12T00:44:01.186823",
     "status": "completed"
    },
    "tags": []
   },
   "outputs": [
    {
     "data": {
      "text/html": [
       "<div>\n",
       "<style scoped>\n",
       "    .dataframe tbody tr th:only-of-type {\n",
       "        vertical-align: middle;\n",
       "    }\n",
       "\n",
       "    .dataframe tbody tr th {\n",
       "        vertical-align: top;\n",
       "    }\n",
       "\n",
       "    .dataframe thead th {\n",
       "        text-align: right;\n",
       "    }\n",
       "</style>\n",
       "<table border=\"1\" class=\"dataframe\">\n",
       "  <thead>\n",
       "    <tr style=\"text-align: right;\">\n",
       "      <th></th>\n",
       "      <th>url</th>\n",
       "      <th>name</th>\n",
       "      <th>header</th>\n",
       "      <th>beds</th>\n",
       "      <th>bedrooms</th>\n",
       "      <th>date_range</th>\n",
       "      <th>price</th>\n",
       "      <th>rating</th>\n",
       "    </tr>\n",
       "  </thead>\n",
       "  <tbody>\n",
       "    <tr>\n",
       "      <th>count</th>\n",
       "      <td>2702</td>\n",
       "      <td>2702</td>\n",
       "      <td>2702</td>\n",
       "      <td>2702</td>\n",
       "      <td>2702</td>\n",
       "      <td>2702</td>\n",
       "      <td>2702</td>\n",
       "      <td>2702</td>\n",
       "    </tr>\n",
       "    <tr>\n",
       "      <th>unique</th>\n",
       "      <td>2702</td>\n",
       "      <td>261</td>\n",
       "      <td>42</td>\n",
       "      <td>261</td>\n",
       "      <td>25</td>\n",
       "      <td>32</td>\n",
       "      <td>150</td>\n",
       "      <td>138</td>\n",
       "    </tr>\n",
       "    <tr>\n",
       "      <th>top</th>\n",
       "      <td>/rooms/998608123216787130?adults=4&amp;category_ta...</td>\n",
       "      <td>Cordoba Apartment 2/A</td>\n",
       "      <td>Apartment in Riyadh</td>\n",
       "      <td>Cordoba Apartment 2/A</td>\n",
       "      <td>3 beds,  · 2 bedrooms</td>\n",
       "      <td>Nov 12 – 17</td>\n",
       "      <td>$80</td>\n",
       "      <td>New</td>\n",
       "    </tr>\n",
       "    <tr>\n",
       "      <th>freq</th>\n",
       "      <td>1</td>\n",
       "      <td>182</td>\n",
       "      <td>1147</td>\n",
       "      <td>182</td>\n",
       "      <td>1156</td>\n",
       "      <td>1000</td>\n",
       "      <td>202</td>\n",
       "      <td>550</td>\n",
       "    </tr>\n",
       "  </tbody>\n",
       "</table>\n",
       "</div>"
      ],
      "text/plain": [
       "                                                      url  \\\n",
       "count                                                2702   \n",
       "unique                                               2702   \n",
       "top     /rooms/998608123216787130?adults=4&category_ta...   \n",
       "freq                                                    1   \n",
       "\n",
       "                         name               header                   beds  \\\n",
       "count                    2702                 2702                   2702   \n",
       "unique                    261                   42                    261   \n",
       "top     Cordoba Apartment 2/A  Apartment in Riyadh  Cordoba Apartment 2/A   \n",
       "freq                      182                 1147                    182   \n",
       "\n",
       "                     bedrooms   date_range price rating  \n",
       "count                    2702         2702  2702   2702  \n",
       "unique                     25           32   150    138  \n",
       "top     3 beds,  · 2 bedrooms  Nov 12 – 17   $80    New  \n",
       "freq                     1156         1000   202    550  "
      ]
     },
     "execution_count": 7,
     "metadata": {},
     "output_type": "execute_result"
    }
   ],
   "source": [
    "data.describe()"
   ]
  },
  {
   "cell_type": "markdown",
   "id": "5d52ba1c",
   "metadata": {
    "papermill": {
     "duration": 0.021702,
     "end_time": "2023-11-12T00:44:01.296902",
     "exception": false,
     "start_time": "2023-11-12T00:44:01.275200",
     "status": "completed"
    },
    "tags": []
   },
   "source": [
    "**Here we can extract new features from bedrooms column the first numbers of the beds and the second the numbers of the rooms and others featrues** "
   ]
  },
  {
   "cell_type": "code",
   "execution_count": 8,
   "id": "c87bffdc",
   "metadata": {
    "execution": {
     "iopub.execute_input": "2023-11-12T00:44:01.344170Z",
     "iopub.status.busy": "2023-11-12T00:44:01.343615Z",
     "iopub.status.idle": "2023-11-12T00:44:01.361258Z",
     "shell.execute_reply": "2023-11-12T00:44:01.360145Z"
    },
    "papermill": {
     "duration": 0.044446,
     "end_time": "2023-11-12T00:44:01.364085",
     "exception": false,
     "start_time": "2023-11-12T00:44:01.319639",
     "status": "completed"
    },
    "tags": []
   },
   "outputs": [],
   "source": [
    "# Extract number of beds and number of bedrooms\n",
    "data[['num_beds', 'num_bedrooms']] = data['bedrooms'].str.extract('(\\d+) beds.*?(\\d+) bedrooms').fillna(1)\n",
    "\n",
    "# print(counts)\n"
   ]
  },
  {
   "cell_type": "markdown",
   "id": "7166afdf",
   "metadata": {
    "papermill": {
     "duration": 0.022187,
     "end_time": "2023-11-12T00:44:01.408257",
     "exception": false,
     "start_time": "2023-11-12T00:44:01.386070",
     "status": "completed"
    },
    "tags": []
   },
   "source": [
    "**Show the the most freqency numbers of beds and bedrooms the most number is 3 for beds and 2 for the bedrooms**"
   ]
  },
  {
   "cell_type": "code",
   "execution_count": 9,
   "id": "94228cc7",
   "metadata": {
    "execution": {
     "iopub.execute_input": "2023-11-12T00:44:01.457078Z",
     "iopub.status.busy": "2023-11-12T00:44:01.456557Z",
     "iopub.status.idle": "2023-11-12T00:44:01.476557Z",
     "shell.execute_reply": "2023-11-12T00:44:01.475308Z"
    },
    "papermill": {
     "duration": 0.047103,
     "end_time": "2023-11-12T00:44:01.479516",
     "exception": false,
     "start_time": "2023-11-12T00:44:01.432413",
     "status": "completed"
    },
    "tags": []
   },
   "outputs": [
    {
     "data": {
      "text/plain": [
       "num_beds  num_bedrooms\n",
       "3         2               1156\n",
       "1         1                475\n",
       "5         4                255\n",
       "8         3                220\n",
       "5         3                202\n",
       "4         2                192\n",
       "2         2                132\n",
       "4         3                 26\n",
       "3         3                 20\n",
       "6         2                  8\n",
       "          3                  8\n",
       "5         2                  3\n",
       "20        2                  1\n",
       "5         5                  1\n",
       "6         4                  1\n",
       "7         4                  1\n",
       "8         2                  1\n",
       "Name: count, dtype: int64"
      ]
     },
     "execution_count": 9,
     "metadata": {},
     "output_type": "execute_result"
    }
   ],
   "source": [
    "data[['num_beds', 'num_bedrooms']].value_counts()"
   ]
  },
  {
   "cell_type": "markdown",
   "id": "dab31e4c",
   "metadata": {
    "papermill": {
     "duration": 0.02212,
     "end_time": "2023-11-12T00:44:01.523873",
     "exception": false,
     "start_time": "2023-11-12T00:44:01.501753",
     "status": "completed"
    },
    "tags": []
   },
   "source": [
    "**Fix the price values and delete the Doller sign and convert it to float type** "
   ]
  },
  {
   "cell_type": "code",
   "execution_count": 10,
   "id": "89faa965",
   "metadata": {
    "execution": {
     "iopub.execute_input": "2023-11-12T00:44:01.572384Z",
     "iopub.status.busy": "2023-11-12T00:44:01.571925Z",
     "iopub.status.idle": "2023-11-12T00:44:01.581639Z",
     "shell.execute_reply": "2023-11-12T00:44:01.580478Z"
    },
    "papermill": {
     "duration": 0.036979,
     "end_time": "2023-11-12T00:44:01.584567",
     "exception": false,
     "start_time": "2023-11-12T00:44:01.547588",
     "status": "completed"
    },
    "tags": []
   },
   "outputs": [
    {
     "data": {
      "text/plain": [
       "2       $162\n",
       "3       $205\n",
       "4       $244\n",
       "5       $155\n",
       "7       $176\n",
       "        ... \n",
       "3592    $139\n",
       "3594    $111\n",
       "3595     $91\n",
       "3598    $133\n",
       "3599    $173\n",
       "Name: price, Length: 2702, dtype: object"
      ]
     },
     "execution_count": 10,
     "metadata": {},
     "output_type": "execute_result"
    }
   ],
   "source": [
    "data['price']"
   ]
  },
  {
   "cell_type": "code",
   "execution_count": 11,
   "id": "75f0a70c",
   "metadata": {
    "execution": {
     "iopub.execute_input": "2023-11-12T00:44:01.631406Z",
     "iopub.status.busy": "2023-11-12T00:44:01.630959Z",
     "iopub.status.idle": "2023-11-12T00:44:01.647275Z",
     "shell.execute_reply": "2023-11-12T00:44:01.645914Z"
    },
    "papermill": {
     "duration": 0.043716,
     "end_time": "2023-11-12T00:44:01.650371",
     "exception": false,
     "start_time": "2023-11-12T00:44:01.606655",
     "status": "completed"
    },
    "tags": []
   },
   "outputs": [],
   "source": [
    "data['price'] = data['price'].replace('[\\$,]', '', regex=True).astype(float)"
   ]
  },
  {
   "cell_type": "markdown",
   "id": "16345658",
   "metadata": {
    "papermill": {
     "duration": 0.022004,
     "end_time": "2023-11-12T00:44:01.695897",
     "exception": false,
     "start_time": "2023-11-12T00:44:01.673893",
     "status": "completed"
    },
    "tags": []
   },
   "source": [
    "**This column has to value the first number represent the rating of place and the second represent the numbers of commints** "
   ]
  },
  {
   "cell_type": "code",
   "execution_count": 12,
   "id": "0b4f1206",
   "metadata": {
    "execution": {
     "iopub.execute_input": "2023-11-12T00:44:01.744246Z",
     "iopub.status.busy": "2023-11-12T00:44:01.743458Z",
     "iopub.status.idle": "2023-11-12T00:44:01.752941Z",
     "shell.execute_reply": "2023-11-12T00:44:01.751943Z"
    },
    "papermill": {
     "duration": 0.035933,
     "end_time": "2023-11-12T00:44:01.755385",
     "exception": false,
     "start_time": "2023-11-12T00:44:01.719452",
     "status": "completed"
    },
    "tags": []
   },
   "outputs": [
    {
     "data": {
      "text/plain": [
       "2          5.0 (3)\n",
       "3       4.86 (177)\n",
       "4        4.28 (40)\n",
       "5              New\n",
       "7        4.93 (67)\n",
       "           ...    \n",
       "3592       5.0 (3)\n",
       "3594       5.0 (4)\n",
       "3595      5.0 (11)\n",
       "3598     4.81 (16)\n",
       "3599      5.0 (10)\n",
       "Name: rating, Length: 2702, dtype: object"
      ]
     },
     "execution_count": 12,
     "metadata": {},
     "output_type": "execute_result"
    }
   ],
   "source": [
    "data['rating']"
   ]
  },
  {
   "cell_type": "code",
   "execution_count": 13,
   "id": "bc8eaeeb",
   "metadata": {
    "execution": {
     "iopub.execute_input": "2023-11-12T00:44:01.802547Z",
     "iopub.status.busy": "2023-11-12T00:44:01.802035Z",
     "iopub.status.idle": "2023-11-12T00:44:01.832146Z",
     "shell.execute_reply": "2023-11-12T00:44:01.830659Z"
    },
    "papermill": {
     "duration": 0.057125,
     "end_time": "2023-11-12T00:44:01.835041",
     "exception": false,
     "start_time": "2023-11-12T00:44:01.777916",
     "status": "completed"
    },
    "tags": []
   },
   "outputs": [
    {
     "name": "stdout",
     "output_type": "stream",
     "text": [
      "      rate  num_comments\n",
      "2     5.00           3.0\n",
      "3     4.86         177.0\n",
      "4     4.28          40.0\n",
      "5      NaN           NaN\n",
      "7     4.93          67.0\n",
      "...    ...           ...\n",
      "3592  5.00           3.0\n",
      "3594  5.00           4.0\n",
      "3595  5.00          11.0\n",
      "3598  4.81          16.0\n",
      "3599  5.00          10.0\n",
      "\n",
      "[2702 rows x 2 columns]\n"
     ]
    }
   ],
   "source": [
    "# Assuming your DataFrame is named 'df' and the column is 'rating_and_comments'\n",
    "data['rate'] = data['rating'].str.extract(r'(\\d+\\.\\d+)').astype(float)\n",
    "data['num_comments'] = data['rating'].str.extract(r'\\((\\d+)\\)').astype(float)\n",
    "\n",
    "\n",
    "# Display the resulting DataFrame\n",
    "print(data[['rate', 'num_comments']])\n"
   ]
  },
  {
   "cell_type": "code",
   "execution_count": 14,
   "id": "1b9e2957",
   "metadata": {
    "execution": {
     "iopub.execute_input": "2023-11-12T00:44:01.883937Z",
     "iopub.status.busy": "2023-11-12T00:44:01.883440Z",
     "iopub.status.idle": "2023-11-12T00:44:01.898314Z",
     "shell.execute_reply": "2023-11-12T00:44:01.896891Z"
    },
    "papermill": {
     "duration": 0.042486,
     "end_time": "2023-11-12T00:44:01.900776",
     "exception": false,
     "start_time": "2023-11-12T00:44:01.858290",
     "status": "completed"
    },
    "tags": []
   },
   "outputs": [
    {
     "data": {
      "text/plain": [
       "count    2702.000000\n",
       "mean      148.613620\n",
       "std        90.081864\n",
       "min        43.000000\n",
       "25%       104.000000\n",
       "50%       128.000000\n",
       "75%       149.000000\n",
       "max       485.000000\n",
       "Name: price, dtype: float64"
      ]
     },
     "execution_count": 14,
     "metadata": {},
     "output_type": "execute_result"
    }
   ],
   "source": [
    "data['price'].describe()"
   ]
  },
  {
   "cell_type": "markdown",
   "id": "22d9137f",
   "metadata": {
    "papermill": {
     "duration": 0.022597,
     "end_time": "2023-11-12T00:44:01.946116",
     "exception": false,
     "start_time": "2023-11-12T00:44:01.923519",
     "status": "completed"
    },
    "tags": []
   },
   "source": [
    "**Drop two columns after makeing extracting new features** "
   ]
  },
  {
   "cell_type": "code",
   "execution_count": 15,
   "id": "896eb9b7",
   "metadata": {
    "execution": {
     "iopub.execute_input": "2023-11-12T00:44:01.996763Z",
     "iopub.status.busy": "2023-11-12T00:44:01.995857Z",
     "iopub.status.idle": "2023-11-12T00:44:02.003328Z",
     "shell.execute_reply": "2023-11-12T00:44:02.001867Z"
    },
    "papermill": {
     "duration": 0.037123,
     "end_time": "2023-11-12T00:44:02.007101",
     "exception": false,
     "start_time": "2023-11-12T00:44:01.969978",
     "status": "completed"
    },
    "tags": []
   },
   "outputs": [],
   "source": [
    "data1 = data.drop(columns=['rating' , 'bedrooms' , 'date_range' , 'url'])"
   ]
  },
  {
   "cell_type": "code",
   "execution_count": 16,
   "id": "74803ced",
   "metadata": {
    "execution": {
     "iopub.execute_input": "2023-11-12T00:44:02.056406Z",
     "iopub.status.busy": "2023-11-12T00:44:02.055930Z",
     "iopub.status.idle": "2023-11-12T00:44:02.067025Z",
     "shell.execute_reply": "2023-11-12T00:44:02.065867Z"
    },
    "papermill": {
     "duration": 0.038892,
     "end_time": "2023-11-12T00:44:02.069842",
     "exception": false,
     "start_time": "2023-11-12T00:44:02.030950",
     "status": "completed"
    },
    "tags": []
   },
   "outputs": [
    {
     "data": {
      "text/plain": [
       "header\n",
       "Apartment in Riyadh                         1147\n",
       "Apartment in Jeddah                          778\n",
       "Condo in Riyadh                              276\n",
       "Condo in Jeddah                              231\n",
       "Home in Riyadh                               182\n",
       "Apartment in Makkah                           31\n",
       "Cabin in Jeddah                                7\n",
       "Apartment in King Abdullah Economic City       5\n",
       "Chalet in Riyadh                               5\n",
       "Apartment in Mecca                             4\n",
       "Apartment in الرياض                            3\n",
       "Villa in Riyadh                                2\n",
       "Villa in Dhahran                               2\n",
       "Chalet in Taif                                 1\n",
       "Chalet in Mecca                                1\n",
       "Townhouse in Riyadh                            1\n",
       "Cottage in Umluj                               1\n",
       "Tiny home in Makkah Province                   1\n",
       "Hut in Taif                                    1\n",
       "Room in Riyadh                                 1\n",
       "Loft in Jeddah                                 1\n",
       "Cabin in Taif                                  1\n",
       "Villa in Jeddah                                1\n",
       "Cabin in At Taif                               1\n",
       "Chalet in Duba                                 1\n",
       "Guesthouse in Tabuk Province                   1\n",
       "Guesthouse in Riyadh                           1\n",
       "Condo in Al Khobar                             1\n",
       "Villa in Abha                                  1\n",
       "Cabin in Riyadh                                1\n",
       "Barn in Al Ula                                 1\n",
       "Tiny home in Ragal Almaa                       1\n",
       "Vacation home in Riyadh                        1\n",
       "Loft in Riyadh City                            1\n",
       "Chalet in Abha                                 1\n",
       "Place to stay in Riyadh                        1\n",
       "Farm stay in Al Atheeb                         1\n",
       "Farm stay in Jalajil                           1\n",
       "Barn in Riyadh                                 1\n",
       "Barn in Jeddah                                 1\n",
       "Home in Jeddah                                 1\n",
       "Barn in Shlal                                  1\n",
       "Name: count, dtype: int64"
      ]
     },
     "execution_count": 16,
     "metadata": {},
     "output_type": "execute_result"
    }
   ],
   "source": [
    "data['header'].value_counts()"
   ]
  },
  {
   "cell_type": "code",
   "execution_count": 17,
   "id": "8ab469cf",
   "metadata": {
    "execution": {
     "iopub.execute_input": "2023-11-12T00:44:02.118817Z",
     "iopub.status.busy": "2023-11-12T00:44:02.118339Z",
     "iopub.status.idle": "2023-11-12T00:44:02.131505Z",
     "shell.execute_reply": "2023-11-12T00:44:02.130314Z"
    },
    "papermill": {
     "duration": 0.04108,
     "end_time": "2023-11-12T00:44:02.134030",
     "exception": false,
     "start_time": "2023-11-12T00:44:02.092950",
     "status": "completed"
    },
    "tags": []
   },
   "outputs": [],
   "source": [
    "import pandas as pd\n",
    "import re\n",
    "# City names\n",
    "\n",
    "\n",
    "# City names mapping\n",
    "mapping = { 'Apartment in Riyadh': \"Riyadh\", 'Apartment in Jeddah': \"Jeddah\", 'Condo in Riyadh': \"Riyadh\",\n",
    "           'Apartment in Makkah': \"Makkah\", 'Condo in Jeddah': \"Jeddah\", 'Home in Riyadh': \"Riyadh\",\n",
    "           'Apartment in King Abdullah Economic City': \"King Abdullah\", 'Apartment in الرياض': \"Riyadh\",\n",
    "           'Hotel in Makkah': \"Makkah\", 'Apartment in  Muhammadiyah, Jeddah': \"Jeddah\",\n",
    "           'Apartment in Mecca': \"Makkah\", 'Chalet in Riyadh': \"Riyadh\", 'Condo in Makkah': \"Makkah\",\n",
    "           'Room in Riyadh': \"Riyadh\", 'Home in Jeddah': \"Jeddah\", 'Villa in Riyadh': \"Riyadh\",\n",
    "           'Hut in Jeddah': \"Jeddah\", 'Cabin in Jeddah': \"Jeddah\", 'Hut in Taif': \"others\",\n",
    "           'Apartment in Diriyah': \"others\", 'Guest suite in Riyadh': \"Riyadh\", 'Loft in Jeddah': \"Jeddah\",\n",
    "           'Condo in Al Khobar': \"others\", 'Chalet in Duba': \"others\", 'Chalet in Mecca': \"Makkah\",\n",
    "           'Vacation home in Riyadh': \"Riyadh\", 'Tiny home in Ragal Almaa': \"others\", 'Loft in Riyadh City': \"Riyadh\",\n",
    "           'Place to stay in Riyadh': \"Riyadh\", 'Farm stay in Jalajil': \"others\", 'Barn in Riyadh': \"Riyadh\",\n",
    "           'Ranch in AlUla': \"others\", 'Cabin in At Taif': \"others\", 'Villa in Jeddah': \"Jeddah\",\n",
    "           'Guesthouse in Makkah': \"Makkah\"}\n",
    "\n",
    "# Apply mapping to the 'city' column\n",
    "data['city'] = data['header'].map(mapping)\n"
   ]
  },
  {
   "cell_type": "code",
   "execution_count": 18,
   "id": "fcd4fa45",
   "metadata": {
    "execution": {
     "iopub.execute_input": "2023-11-12T00:44:02.182235Z",
     "iopub.status.busy": "2023-11-12T00:44:02.181306Z",
     "iopub.status.idle": "2023-11-12T00:44:02.190896Z",
     "shell.execute_reply": "2023-11-12T00:44:02.189837Z"
    },
    "papermill": {
     "duration": 0.036353,
     "end_time": "2023-11-12T00:44:02.193269",
     "exception": false,
     "start_time": "2023-11-12T00:44:02.156916",
     "status": "completed"
    },
    "tags": []
   },
   "outputs": [
    {
     "data": {
      "text/plain": [
       "city\n",
       "Riyadh           1620\n",
       "Jeddah           1019\n",
       "Makkah             36\n",
       "others              6\n",
       "King Abdullah       5\n",
       "Name: count, dtype: int64"
      ]
     },
     "execution_count": 18,
     "metadata": {},
     "output_type": "execute_result"
    }
   ],
   "source": [
    "data['city'].value_counts()"
   ]
  },
  {
   "cell_type": "code",
   "execution_count": 19,
   "id": "6a85a616",
   "metadata": {
    "execution": {
     "iopub.execute_input": "2023-11-12T00:44:02.242056Z",
     "iopub.status.busy": "2023-11-12T00:44:02.241260Z",
     "iopub.status.idle": "2023-11-12T00:44:02.269372Z",
     "shell.execute_reply": "2023-11-12T00:44:02.268200Z"
    },
    "papermill": {
     "duration": 0.055545,
     "end_time": "2023-11-12T00:44:02.272081",
     "exception": false,
     "start_time": "2023-11-12T00:44:02.216536",
     "status": "completed"
    },
    "tags": []
   },
   "outputs": [
    {
     "data": {
      "text/html": [
       "<div>\n",
       "<style scoped>\n",
       "    .dataframe tbody tr th:only-of-type {\n",
       "        vertical-align: middle;\n",
       "    }\n",
       "\n",
       "    .dataframe tbody tr th {\n",
       "        vertical-align: top;\n",
       "    }\n",
       "\n",
       "    .dataframe thead th {\n",
       "        text-align: right;\n",
       "    }\n",
       "</style>\n",
       "<table border=\"1\" class=\"dataframe\">\n",
       "  <thead>\n",
       "    <tr style=\"text-align: right;\">\n",
       "      <th></th>\n",
       "      <th>url</th>\n",
       "      <th>name</th>\n",
       "      <th>header</th>\n",
       "      <th>beds</th>\n",
       "      <th>bedrooms</th>\n",
       "      <th>date_range</th>\n",
       "      <th>price</th>\n",
       "      <th>rating</th>\n",
       "      <th>num_beds</th>\n",
       "      <th>num_bedrooms</th>\n",
       "      <th>rate</th>\n",
       "      <th>num_comments</th>\n",
       "      <th>city</th>\n",
       "    </tr>\n",
       "  </thead>\n",
       "  <tbody>\n",
       "    <tr>\n",
       "      <th>2</th>\n",
       "      <td>/rooms/998608123216787130?adults=4&amp;category_ta...</td>\n",
       "      <td>Qishla</td>\n",
       "      <td>Apartment in Riyadh</td>\n",
       "      <td>Qishla</td>\n",
       "      <td>2 beds,  · 2 bedrooms</td>\n",
       "      <td>Dec 15 – 20</td>\n",
       "      <td>162.0</td>\n",
       "      <td>5.0 (3)</td>\n",
       "      <td>2</td>\n",
       "      <td>2</td>\n",
       "      <td>5.00</td>\n",
       "      <td>3.0</td>\n",
       "      <td>Riyadh</td>\n",
       "    </tr>\n",
       "    <tr>\n",
       "      <th>3</th>\n",
       "      <td>/rooms/53641292?adults=4&amp;category_tag=Tag%3A67...</td>\n",
       "      <td>Exhibitor NeighborhoodThe Green (Self-entry)</td>\n",
       "      <td>Chalet in Riyadh</td>\n",
       "      <td>Exhibitor NeighborhoodThe Green (Self-entry)</td>\n",
       "      <td>Verified fast wifi</td>\n",
       "      <td>Nov 12 – 17</td>\n",
       "      <td>205.0</td>\n",
       "      <td>4.86 (177)</td>\n",
       "      <td>1</td>\n",
       "      <td>1</td>\n",
       "      <td>4.86</td>\n",
       "      <td>177.0</td>\n",
       "      <td>Riyadh</td>\n",
       "    </tr>\n",
       "    <tr>\n",
       "      <th>4</th>\n",
       "      <td>/rooms/674270986363639521?adults=4&amp;category_ta...</td>\n",
       "      <td>Mabaat -  Al Narjis - 424</td>\n",
       "      <td>Apartment in Riyadh</td>\n",
       "      <td>Mabaat -  Al Narjis - 424</td>\n",
       "      <td>3 beds,  · 2 bedrooms</td>\n",
       "      <td>Nov 12 – 17</td>\n",
       "      <td>244.0</td>\n",
       "      <td>4.28 (40)</td>\n",
       "      <td>3</td>\n",
       "      <td>2</td>\n",
       "      <td>4.28</td>\n",
       "      <td>40.0</td>\n",
       "      <td>Riyadh</td>\n",
       "    </tr>\n",
       "    <tr>\n",
       "      <th>5</th>\n",
       "      <td>/rooms/1009270121362192039?adults=4&amp;category_t...</td>\n",
       "      <td>VIP Apartment Al Aqeeq District</td>\n",
       "      <td>Apartment in Riyadh</td>\n",
       "      <td>VIP Apartment Al Aqeeq District</td>\n",
       "      <td>3 beds,  · 2 bedrooms</td>\n",
       "      <td>Nov 12 – 17</td>\n",
       "      <td>155.0</td>\n",
       "      <td>New</td>\n",
       "      <td>3</td>\n",
       "      <td>2</td>\n",
       "      <td>NaN</td>\n",
       "      <td>NaN</td>\n",
       "      <td>Riyadh</td>\n",
       "    </tr>\n",
       "    <tr>\n",
       "      <th>7</th>\n",
       "      <td>/rooms/783391175200049292?adults=4&amp;category_ta...</td>\n",
       "      <td>Almajdieh Apt. 4 | Self Check-In</td>\n",
       "      <td>Apartment in Riyadh</td>\n",
       "      <td>Almajdieh Apt. 4 | Self Check-In</td>\n",
       "      <td>2 beds,  · 2 bedrooms</td>\n",
       "      <td>Nov 24 – 29</td>\n",
       "      <td>176.0</td>\n",
       "      <td>4.93 (67)</td>\n",
       "      <td>2</td>\n",
       "      <td>2</td>\n",
       "      <td>4.93</td>\n",
       "      <td>67.0</td>\n",
       "      <td>Riyadh</td>\n",
       "    </tr>\n",
       "    <tr>\n",
       "      <th>...</th>\n",
       "      <td>...</td>\n",
       "      <td>...</td>\n",
       "      <td>...</td>\n",
       "      <td>...</td>\n",
       "      <td>...</td>\n",
       "      <td>...</td>\n",
       "      <td>...</td>\n",
       "      <td>...</td>\n",
       "      <td>...</td>\n",
       "      <td>...</td>\n",
       "      <td>...</td>\n",
       "      <td>...</td>\n",
       "      <td>...</td>\n",
       "    </tr>\n",
       "    <tr>\n",
       "      <th>3592</th>\n",
       "      <td>/rooms/867342158216585393?adults=4&amp;category_ta...</td>\n",
       "      <td>Featured bunk villa and pool</td>\n",
       "      <td>Home in Riyadh</td>\n",
       "      <td>Featured bunk villa and pool</td>\n",
       "      <td>4 beds,  · 2 bedrooms</td>\n",
       "      <td>Nov 25 – 30</td>\n",
       "      <td>139.0</td>\n",
       "      <td>5.0 (3)</td>\n",
       "      <td>4</td>\n",
       "      <td>2</td>\n",
       "      <td>5.00</td>\n",
       "      <td>3.0</td>\n",
       "      <td>Riyadh</td>\n",
       "    </tr>\n",
       "    <tr>\n",
       "      <th>3594</th>\n",
       "      <td>/rooms/755552094791307429?adults=4&amp;category_ta...</td>\n",
       "      <td>Spacious Apartment for a family</td>\n",
       "      <td>Apartment in Jeddah</td>\n",
       "      <td>Spacious Apartment for a family</td>\n",
       "      <td>5 beds,  · 3 bedrooms</td>\n",
       "      <td>Nov 19 – 24</td>\n",
       "      <td>111.0</td>\n",
       "      <td>5.0 (4)</td>\n",
       "      <td>5</td>\n",
       "      <td>3</td>\n",
       "      <td>5.00</td>\n",
       "      <td>4.0</td>\n",
       "      <td>Jeddah</td>\n",
       "    </tr>\n",
       "    <tr>\n",
       "      <th>3595</th>\n",
       "      <td>/rooms/848185754046836266?adults=4&amp;category_ta...</td>\n",
       "      <td>2 Bedroom Apartment with Self check in</td>\n",
       "      <td>Apartment in Riyadh</td>\n",
       "      <td>2 Bedroom Apartment with Self check in</td>\n",
       "      <td>3 beds,  · 2 bedrooms</td>\n",
       "      <td>Nov 26 – Dec 1</td>\n",
       "      <td>91.0</td>\n",
       "      <td>5.0 (11)</td>\n",
       "      <td>3</td>\n",
       "      <td>2</td>\n",
       "      <td>5.00</td>\n",
       "      <td>11.0</td>\n",
       "      <td>Riyadh</td>\n",
       "    </tr>\n",
       "    <tr>\n",
       "      <th>3598</th>\n",
       "      <td>/rooms/834494644412232740?adults=4&amp;category_ta...</td>\n",
       "      <td>B2-Cozy 2 bedroom apartment</td>\n",
       "      <td>Apartment in Riyadh</td>\n",
       "      <td>B2-Cozy 2 bedroom apartment</td>\n",
       "      <td>3 beds,  · 2 bedrooms</td>\n",
       "      <td>Nov 12 – 17</td>\n",
       "      <td>133.0</td>\n",
       "      <td>4.81 (16)</td>\n",
       "      <td>3</td>\n",
       "      <td>2</td>\n",
       "      <td>4.81</td>\n",
       "      <td>16.0</td>\n",
       "      <td>Riyadh</td>\n",
       "    </tr>\n",
       "    <tr>\n",
       "      <th>3599</th>\n",
       "      <td>/rooms/724136389001234071?adults=4&amp;category_ta...</td>\n",
       "      <td>Apartment Hotel Groves | Three Bedrooms and Se...</td>\n",
       "      <td>Condo in Riyadh</td>\n",
       "      <td>Apartment Hotel Groves | Three Bedrooms and Se...</td>\n",
       "      <td>Dedicated workspace</td>\n",
       "      <td>Nov 25 – 30</td>\n",
       "      <td>173.0</td>\n",
       "      <td>5.0 (10)</td>\n",
       "      <td>1</td>\n",
       "      <td>1</td>\n",
       "      <td>5.00</td>\n",
       "      <td>10.0</td>\n",
       "      <td>Riyadh</td>\n",
       "    </tr>\n",
       "  </tbody>\n",
       "</table>\n",
       "<p>2702 rows × 13 columns</p>\n",
       "</div>"
      ],
      "text/plain": [
       "                                                    url  \\\n",
       "2     /rooms/998608123216787130?adults=4&category_ta...   \n",
       "3     /rooms/53641292?adults=4&category_tag=Tag%3A67...   \n",
       "4     /rooms/674270986363639521?adults=4&category_ta...   \n",
       "5     /rooms/1009270121362192039?adults=4&category_t...   \n",
       "7     /rooms/783391175200049292?adults=4&category_ta...   \n",
       "...                                                 ...   \n",
       "3592  /rooms/867342158216585393?adults=4&category_ta...   \n",
       "3594  /rooms/755552094791307429?adults=4&category_ta...   \n",
       "3595  /rooms/848185754046836266?adults=4&category_ta...   \n",
       "3598  /rooms/834494644412232740?adults=4&category_ta...   \n",
       "3599  /rooms/724136389001234071?adults=4&category_ta...   \n",
       "\n",
       "                                                   name               header  \\\n",
       "2                                                Qishla  Apartment in Riyadh   \n",
       "3          Exhibitor NeighborhoodThe Green (Self-entry)     Chalet in Riyadh   \n",
       "4                             Mabaat -  Al Narjis - 424  Apartment in Riyadh   \n",
       "5                       VIP Apartment Al Aqeeq District  Apartment in Riyadh   \n",
       "7                      Almajdieh Apt. 4 | Self Check-In  Apartment in Riyadh   \n",
       "...                                                 ...                  ...   \n",
       "3592                       Featured bunk villa and pool       Home in Riyadh   \n",
       "3594                    Spacious Apartment for a family  Apartment in Jeddah   \n",
       "3595             2 Bedroom Apartment with Self check in  Apartment in Riyadh   \n",
       "3598                        B2-Cozy 2 bedroom apartment  Apartment in Riyadh   \n",
       "3599  Apartment Hotel Groves | Three Bedrooms and Se...      Condo in Riyadh   \n",
       "\n",
       "                                                   beds  \\\n",
       "2                                                Qishla   \n",
       "3          Exhibitor NeighborhoodThe Green (Self-entry)   \n",
       "4                             Mabaat -  Al Narjis - 424   \n",
       "5                       VIP Apartment Al Aqeeq District   \n",
       "7                      Almajdieh Apt. 4 | Self Check-In   \n",
       "...                                                 ...   \n",
       "3592                       Featured bunk villa and pool   \n",
       "3594                    Spacious Apartment for a family   \n",
       "3595             2 Bedroom Apartment with Self check in   \n",
       "3598                        B2-Cozy 2 bedroom apartment   \n",
       "3599  Apartment Hotel Groves | Three Bedrooms and Se...   \n",
       "\n",
       "                   bedrooms      date_range  price      rating num_beds  \\\n",
       "2     2 beds,  · 2 bedrooms     Dec 15 – 20  162.0     5.0 (3)        2   \n",
       "3        Verified fast wifi     Nov 12 – 17  205.0  4.86 (177)        1   \n",
       "4     3 beds,  · 2 bedrooms     Nov 12 – 17  244.0   4.28 (40)        3   \n",
       "5     3 beds,  · 2 bedrooms     Nov 12 – 17  155.0         New        3   \n",
       "7     2 beds,  · 2 bedrooms     Nov 24 – 29  176.0   4.93 (67)        2   \n",
       "...                     ...             ...    ...         ...      ...   \n",
       "3592  4 beds,  · 2 bedrooms     Nov 25 – 30  139.0     5.0 (3)        4   \n",
       "3594  5 beds,  · 3 bedrooms     Nov 19 – 24  111.0     5.0 (4)        5   \n",
       "3595  3 beds,  · 2 bedrooms  Nov 26 – Dec 1   91.0    5.0 (11)        3   \n",
       "3598  3 beds,  · 2 bedrooms     Nov 12 – 17  133.0   4.81 (16)        3   \n",
       "3599    Dedicated workspace     Nov 25 – 30  173.0    5.0 (10)        1   \n",
       "\n",
       "     num_bedrooms  rate  num_comments    city  \n",
       "2               2  5.00           3.0  Riyadh  \n",
       "3               1  4.86         177.0  Riyadh  \n",
       "4               2  4.28          40.0  Riyadh  \n",
       "5               2   NaN           NaN  Riyadh  \n",
       "7               2  4.93          67.0  Riyadh  \n",
       "...           ...   ...           ...     ...  \n",
       "3592            2  5.00           3.0  Riyadh  \n",
       "3594            3  5.00           4.0  Jeddah  \n",
       "3595            2  5.00          11.0  Riyadh  \n",
       "3598            2  4.81          16.0  Riyadh  \n",
       "3599            1  5.00          10.0  Riyadh  \n",
       "\n",
       "[2702 rows x 13 columns]"
      ]
     },
     "execution_count": 19,
     "metadata": {},
     "output_type": "execute_result"
    }
   ],
   "source": [
    "data"
   ]
  },
  {
   "cell_type": "code",
   "execution_count": 20,
   "id": "7228c1a7",
   "metadata": {
    "execution": {
     "iopub.execute_input": "2023-11-12T00:44:02.322926Z",
     "iopub.status.busy": "2023-11-12T00:44:02.322392Z",
     "iopub.status.idle": "2023-11-12T00:44:02.331109Z",
     "shell.execute_reply": "2023-11-12T00:44:02.329776Z"
    },
    "papermill": {
     "duration": 0.036822,
     "end_time": "2023-11-12T00:44:02.333577",
     "exception": false,
     "start_time": "2023-11-12T00:44:02.296755",
     "status": "completed"
    },
    "tags": []
   },
   "outputs": [],
   "source": [
    "df2 = data[['price' , 'num_beds' , 'num_bedrooms' , 'rate' , 'num_comments' , 'city']]"
   ]
  },
  {
   "cell_type": "code",
   "execution_count": 21,
   "id": "ce683306",
   "metadata": {
    "execution": {
     "iopub.execute_input": "2023-11-12T00:44:02.385281Z",
     "iopub.status.busy": "2023-11-12T00:44:02.384432Z",
     "iopub.status.idle": "2023-11-12T00:44:02.410767Z",
     "shell.execute_reply": "2023-11-12T00:44:02.409556Z"
    },
    "papermill": {
     "duration": 0.055946,
     "end_time": "2023-11-12T00:44:02.413821",
     "exception": false,
     "start_time": "2023-11-12T00:44:02.357875",
     "status": "completed"
    },
    "tags": []
   },
   "outputs": [],
   "source": [
    "df2.to_csv(\"clean_data.csv\")"
   ]
  },
  {
   "cell_type": "code",
   "execution_count": 22,
   "id": "22aa6faf",
   "metadata": {
    "execution": {
     "iopub.execute_input": "2023-11-12T00:44:02.464939Z",
     "iopub.status.busy": "2023-11-12T00:44:02.464444Z",
     "iopub.status.idle": "2023-11-12T00:44:02.487180Z",
     "shell.execute_reply": "2023-11-12T00:44:02.485974Z"
    },
    "papermill": {
     "duration": 0.052019,
     "end_time": "2023-11-12T00:44:02.489580",
     "exception": false,
     "start_time": "2023-11-12T00:44:02.437561",
     "status": "completed"
    },
    "tags": []
   },
   "outputs": [
    {
     "data": {
      "text/html": [
       "<div>\n",
       "<style scoped>\n",
       "    .dataframe tbody tr th:only-of-type {\n",
       "        vertical-align: middle;\n",
       "    }\n",
       "\n",
       "    .dataframe tbody tr th {\n",
       "        vertical-align: top;\n",
       "    }\n",
       "\n",
       "    .dataframe thead th {\n",
       "        text-align: right;\n",
       "    }\n",
       "</style>\n",
       "<table border=\"1\" class=\"dataframe\">\n",
       "  <thead>\n",
       "    <tr style=\"text-align: right;\">\n",
       "      <th></th>\n",
       "      <th>price</th>\n",
       "      <th>num_beds</th>\n",
       "      <th>num_bedrooms</th>\n",
       "      <th>rate</th>\n",
       "      <th>num_comments</th>\n",
       "      <th>city</th>\n",
       "    </tr>\n",
       "  </thead>\n",
       "  <tbody>\n",
       "    <tr>\n",
       "      <th>2</th>\n",
       "      <td>162.0</td>\n",
       "      <td>2</td>\n",
       "      <td>2</td>\n",
       "      <td>5.00</td>\n",
       "      <td>3.0</td>\n",
       "      <td>Riyadh</td>\n",
       "    </tr>\n",
       "    <tr>\n",
       "      <th>3</th>\n",
       "      <td>205.0</td>\n",
       "      <td>1</td>\n",
       "      <td>1</td>\n",
       "      <td>4.86</td>\n",
       "      <td>177.0</td>\n",
       "      <td>Riyadh</td>\n",
       "    </tr>\n",
       "    <tr>\n",
       "      <th>4</th>\n",
       "      <td>244.0</td>\n",
       "      <td>3</td>\n",
       "      <td>2</td>\n",
       "      <td>4.28</td>\n",
       "      <td>40.0</td>\n",
       "      <td>Riyadh</td>\n",
       "    </tr>\n",
       "    <tr>\n",
       "      <th>5</th>\n",
       "      <td>155.0</td>\n",
       "      <td>3</td>\n",
       "      <td>2</td>\n",
       "      <td>NaN</td>\n",
       "      <td>NaN</td>\n",
       "      <td>Riyadh</td>\n",
       "    </tr>\n",
       "    <tr>\n",
       "      <th>7</th>\n",
       "      <td>176.0</td>\n",
       "      <td>2</td>\n",
       "      <td>2</td>\n",
       "      <td>4.93</td>\n",
       "      <td>67.0</td>\n",
       "      <td>Riyadh</td>\n",
       "    </tr>\n",
       "    <tr>\n",
       "      <th>...</th>\n",
       "      <td>...</td>\n",
       "      <td>...</td>\n",
       "      <td>...</td>\n",
       "      <td>...</td>\n",
       "      <td>...</td>\n",
       "      <td>...</td>\n",
       "    </tr>\n",
       "    <tr>\n",
       "      <th>3592</th>\n",
       "      <td>139.0</td>\n",
       "      <td>4</td>\n",
       "      <td>2</td>\n",
       "      <td>5.00</td>\n",
       "      <td>3.0</td>\n",
       "      <td>Riyadh</td>\n",
       "    </tr>\n",
       "    <tr>\n",
       "      <th>3594</th>\n",
       "      <td>111.0</td>\n",
       "      <td>5</td>\n",
       "      <td>3</td>\n",
       "      <td>5.00</td>\n",
       "      <td>4.0</td>\n",
       "      <td>Jeddah</td>\n",
       "    </tr>\n",
       "    <tr>\n",
       "      <th>3595</th>\n",
       "      <td>91.0</td>\n",
       "      <td>3</td>\n",
       "      <td>2</td>\n",
       "      <td>5.00</td>\n",
       "      <td>11.0</td>\n",
       "      <td>Riyadh</td>\n",
       "    </tr>\n",
       "    <tr>\n",
       "      <th>3598</th>\n",
       "      <td>133.0</td>\n",
       "      <td>3</td>\n",
       "      <td>2</td>\n",
       "      <td>4.81</td>\n",
       "      <td>16.0</td>\n",
       "      <td>Riyadh</td>\n",
       "    </tr>\n",
       "    <tr>\n",
       "      <th>3599</th>\n",
       "      <td>173.0</td>\n",
       "      <td>1</td>\n",
       "      <td>1</td>\n",
       "      <td>5.00</td>\n",
       "      <td>10.0</td>\n",
       "      <td>Riyadh</td>\n",
       "    </tr>\n",
       "  </tbody>\n",
       "</table>\n",
       "<p>2702 rows × 6 columns</p>\n",
       "</div>"
      ],
      "text/plain": [
       "      price num_beds num_bedrooms  rate  num_comments    city\n",
       "2     162.0        2            2  5.00           3.0  Riyadh\n",
       "3     205.0        1            1  4.86         177.0  Riyadh\n",
       "4     244.0        3            2  4.28          40.0  Riyadh\n",
       "5     155.0        3            2   NaN           NaN  Riyadh\n",
       "7     176.0        2            2  4.93          67.0  Riyadh\n",
       "...     ...      ...          ...   ...           ...     ...\n",
       "3592  139.0        4            2  5.00           3.0  Riyadh\n",
       "3594  111.0        5            3  5.00           4.0  Jeddah\n",
       "3595   91.0        3            2  5.00          11.0  Riyadh\n",
       "3598  133.0        3            2  4.81          16.0  Riyadh\n",
       "3599  173.0        1            1  5.00          10.0  Riyadh\n",
       "\n",
       "[2702 rows x 6 columns]"
      ]
     },
     "execution_count": 22,
     "metadata": {},
     "output_type": "execute_result"
    }
   ],
   "source": [
    "df2"
   ]
  },
  {
   "cell_type": "code",
   "execution_count": 23,
   "id": "c4b376dc",
   "metadata": {
    "execution": {
     "iopub.execute_input": "2023-11-12T00:44:02.540969Z",
     "iopub.status.busy": "2023-11-12T00:44:02.540458Z",
     "iopub.status.idle": "2023-11-12T00:44:02.557934Z",
     "shell.execute_reply": "2023-11-12T00:44:02.556946Z"
    },
    "papermill": {
     "duration": 0.046067,
     "end_time": "2023-11-12T00:44:02.560550",
     "exception": false,
     "start_time": "2023-11-12T00:44:02.514483",
     "status": "completed"
    },
    "tags": []
   },
   "outputs": [
    {
     "name": "stdout",
     "output_type": "stream",
     "text": [
      "<class 'pandas.core.frame.DataFrame'>\n",
      "Index: 2702 entries, 2 to 3599\n",
      "Data columns (total 6 columns):\n",
      " #   Column        Non-Null Count  Dtype  \n",
      "---  ------        --------------  -----  \n",
      " 0   price         2702 non-null   float64\n",
      " 1   num_beds      2702 non-null   object \n",
      " 2   num_bedrooms  2702 non-null   object \n",
      " 3   rate          2152 non-null   float64\n",
      " 4   num_comments  2152 non-null   float64\n",
      " 5   city          2686 non-null   object \n",
      "dtypes: float64(3), object(3)\n",
      "memory usage: 147.8+ KB\n"
     ]
    }
   ],
   "source": [
    "df2.info()"
   ]
  },
  {
   "cell_type": "code",
   "execution_count": 24,
   "id": "39297299",
   "metadata": {
    "execution": {
     "iopub.execute_input": "2023-11-12T00:44:02.612566Z",
     "iopub.status.busy": "2023-11-12T00:44:02.612104Z",
     "iopub.status.idle": "2023-11-12T00:44:02.636250Z",
     "shell.execute_reply": "2023-11-12T00:44:02.634992Z"
    },
    "papermill": {
     "duration": 0.053828,
     "end_time": "2023-11-12T00:44:02.639147",
     "exception": false,
     "start_time": "2023-11-12T00:44:02.585319",
     "status": "completed"
    },
    "tags": []
   },
   "outputs": [
    {
     "data": {
      "text/html": [
       "<div>\n",
       "<style scoped>\n",
       "    .dataframe tbody tr th:only-of-type {\n",
       "        vertical-align: middle;\n",
       "    }\n",
       "\n",
       "    .dataframe tbody tr th {\n",
       "        vertical-align: top;\n",
       "    }\n",
       "\n",
       "    .dataframe thead th {\n",
       "        text-align: right;\n",
       "    }\n",
       "</style>\n",
       "<table border=\"1\" class=\"dataframe\">\n",
       "  <thead>\n",
       "    <tr style=\"text-align: right;\">\n",
       "      <th></th>\n",
       "      <th>price</th>\n",
       "      <th>rate</th>\n",
       "      <th>num_comments</th>\n",
       "    </tr>\n",
       "  </thead>\n",
       "  <tbody>\n",
       "    <tr>\n",
       "      <th>count</th>\n",
       "      <td>2702.000000</td>\n",
       "      <td>2152.000000</td>\n",
       "      <td>2152.000000</td>\n",
       "    </tr>\n",
       "    <tr>\n",
       "      <th>mean</th>\n",
       "      <td>148.613620</td>\n",
       "      <td>4.908443</td>\n",
       "      <td>21.809944</td>\n",
       "    </tr>\n",
       "    <tr>\n",
       "      <th>std</th>\n",
       "      <td>90.081864</td>\n",
       "      <td>0.129501</td>\n",
       "      <td>17.691941</td>\n",
       "    </tr>\n",
       "    <tr>\n",
       "      <th>min</th>\n",
       "      <td>43.000000</td>\n",
       "      <td>3.250000</td>\n",
       "      <td>3.000000</td>\n",
       "    </tr>\n",
       "    <tr>\n",
       "      <th>25%</th>\n",
       "      <td>104.000000</td>\n",
       "      <td>4.850000</td>\n",
       "      <td>10.000000</td>\n",
       "    </tr>\n",
       "    <tr>\n",
       "      <th>50%</th>\n",
       "      <td>128.000000</td>\n",
       "      <td>5.000000</td>\n",
       "      <td>16.000000</td>\n",
       "    </tr>\n",
       "    <tr>\n",
       "      <th>75%</th>\n",
       "      <td>149.000000</td>\n",
       "      <td>5.000000</td>\n",
       "      <td>33.000000</td>\n",
       "    </tr>\n",
       "    <tr>\n",
       "      <th>max</th>\n",
       "      <td>485.000000</td>\n",
       "      <td>5.000000</td>\n",
       "      <td>178.000000</td>\n",
       "    </tr>\n",
       "  </tbody>\n",
       "</table>\n",
       "</div>"
      ],
      "text/plain": [
       "             price         rate  num_comments\n",
       "count  2702.000000  2152.000000   2152.000000\n",
       "mean    148.613620     4.908443     21.809944\n",
       "std      90.081864     0.129501     17.691941\n",
       "min      43.000000     3.250000      3.000000\n",
       "25%     104.000000     4.850000     10.000000\n",
       "50%     128.000000     5.000000     16.000000\n",
       "75%     149.000000     5.000000     33.000000\n",
       "max     485.000000     5.000000    178.000000"
      ]
     },
     "execution_count": 24,
     "metadata": {},
     "output_type": "execute_result"
    }
   ],
   "source": [
    "df2.describe()"
   ]
  },
  {
   "cell_type": "code",
   "execution_count": 25,
   "id": "13532903",
   "metadata": {
    "execution": {
     "iopub.execute_input": "2023-11-12T00:44:02.691526Z",
     "iopub.status.busy": "2023-11-12T00:44:02.690734Z",
     "iopub.status.idle": "2023-11-12T00:44:02.701205Z",
     "shell.execute_reply": "2023-11-12T00:44:02.700393Z"
    },
    "papermill": {
     "duration": 0.039543,
     "end_time": "2023-11-12T00:44:02.703430",
     "exception": false,
     "start_time": "2023-11-12T00:44:02.663887",
     "status": "completed"
    },
    "tags": []
   },
   "outputs": [
    {
     "data": {
      "text/plain": [
       "price\n",
       "80.0     202\n",
       "139.0    185\n",
       "149.0    184\n",
       "447.0    182\n",
       "104.0    181\n",
       "        ... \n",
       "267.0      1\n",
       "114.0      1\n",
       "261.0      1\n",
       "245.0      1\n",
       "48.0       1\n",
       "Name: count, Length: 150, dtype: int64"
      ]
     },
     "execution_count": 25,
     "metadata": {},
     "output_type": "execute_result"
    }
   ],
   "source": [
    "df2['price'].value_counts()"
   ]
  },
  {
   "cell_type": "code",
   "execution_count": 26,
   "id": "e06636f0",
   "metadata": {
    "execution": {
     "iopub.execute_input": "2023-11-12T00:44:02.755969Z",
     "iopub.status.busy": "2023-11-12T00:44:02.755454Z",
     "iopub.status.idle": "2023-11-12T00:44:04.406285Z",
     "shell.execute_reply": "2023-11-12T00:44:04.404925Z"
    },
    "papermill": {
     "duration": 1.680798,
     "end_time": "2023-11-12T00:44:04.409597",
     "exception": false,
     "start_time": "2023-11-12T00:44:02.728799",
     "status": "completed"
    },
    "tags": []
   },
   "outputs": [],
   "source": [
    "import matplotlib.pyplot as plt\n",
    "import seaborn as sns\n",
    "import pandas as pd\n",
    "\n",
    "def remove_outliers(data, column):\n",
    "    Q1 = data[column].quantile(0.25)\n",
    "    Q3 = data[column].quantile(0.75)\n",
    "    IQR = Q3 - Q1\n",
    "    lower_bound = Q1 - 1.5 * IQR\n",
    "    upper_bound = Q3 + 1.5 * IQR\n",
    "    return data[(data[column] >= lower_bound) & (data[column] <= upper_bound)]\n",
    "\n",
    "def plot_box_plot(data, column):\n",
    "    \"\"\"\n",
    "    Create a box plot for a specified column in a DataFrame.\n",
    "\n",
    "    Parameters:\n",
    "    - data: DataFrame\n",
    "    - column: str, the column for which the box plot should be created\n",
    "    \"\"\"\n",
    "    plt.figure(figsize=(6, 3))\n",
    "    sns.boxplot(x=data[column])\n",
    "    plt.xlabel(column)\n",
    "    plt.title(f'Box Plot of {column}')\n",
    "    plt.show()"
   ]
  },
  {
   "cell_type": "code",
   "execution_count": 27,
   "id": "8ab3b5d1",
   "metadata": {
    "execution": {
     "iopub.execute_input": "2023-11-12T00:44:04.461933Z",
     "iopub.status.busy": "2023-11-12T00:44:04.461398Z",
     "iopub.status.idle": "2023-11-12T00:44:04.743753Z",
     "shell.execute_reply": "2023-11-12T00:44:04.742506Z"
    },
    "papermill": {
     "duration": 0.311674,
     "end_time": "2023-11-12T00:44:04.746533",
     "exception": false,
     "start_time": "2023-11-12T00:44:04.434859",
     "status": "completed"
    },
    "tags": []
   },
   "outputs": [
    {
     "data": {
      "image/png": "[encoded data removed]",
      "text/plain": [
       "<Figure size 600x300 with 1 Axes>"
      ]
     },
     "metadata": {},
     "output_type": "display_data"
    }
   ],
   "source": [
    "column_of_interest = 'num_comments'\n",
    "\n",
    "# Remove outliers\n",
    "df3 = remove_outliers(df2 , column_of_interest)\n",
    "\n",
    "# Create and display the box plot\n",
    "plot_box_plot(df3 , column_of_interest)\n"
   ]
  },
  {
   "cell_type": "code",
   "execution_count": 28,
   "id": "eedfa81a",
   "metadata": {
    "execution": {
     "iopub.execute_input": "2023-11-12T00:44:04.800216Z",
     "iopub.status.busy": "2023-11-12T00:44:04.799518Z",
     "iopub.status.idle": "2023-11-12T00:44:05.039514Z",
     "shell.execute_reply": "2023-11-12T00:44:05.038432Z"
    },
    "papermill": {
     "duration": 0.269689,
     "end_time": "2023-11-12T00:44:05.041952",
     "exception": false,
     "start_time": "2023-11-12T00:44:04.772263",
     "status": "completed"
    },
    "tags": []
   },
   "outputs": [
    {
     "data": {
      "image/png": "[encoded data removed]",
      "text/plain": [
       "<Figure size 600x300 with 1 Axes>"
      ]
     },
     "metadata": {},
     "output_type": "display_data"
    }
   ],
   "source": [
    "column_of_interest = 'price'\n",
    "\n",
    "# Remove outliers\n",
    "df4 = remove_outliers(df3 , column_of_interest)\n",
    "\n",
    "# Create and display the box plot\n",
    "plot_box_plot(df4 , column_of_interest)\n"
   ]
  },
  {
   "cell_type": "code",
   "execution_count": 29,
   "id": "84cb837a",
   "metadata": {
    "execution": {
     "iopub.execute_input": "2023-11-12T00:44:05.095435Z",
     "iopub.status.busy": "2023-11-12T00:44:05.094418Z",
     "iopub.status.idle": "2023-11-12T00:44:05.427450Z",
     "shell.execute_reply": "2023-11-12T00:44:05.425683Z"
    },
    "papermill": {
     "duration": 0.36378,
     "end_time": "2023-11-12T00:44:05.431124",
     "exception": false,
     "start_time": "2023-11-12T00:44:05.067344",
     "status": "completed"
    },
    "tags": []
   },
   "outputs": [
    {
     "data": {
      "text/plain": [
       "Text(0.5, 0, 'Number of freqency')"
      ]
     },
     "execution_count": 29,
     "metadata": {},
     "output_type": "execute_result"
    },
    {
     "data": {
      "image/png": "[encoded data removed]",
      "text/plain": [
       "<Figure size 700x300 with 1 Axes>"
      ]
     },
     "metadata": {},
     "output_type": "display_data"
    }
   ],
   "source": [
    "import seaborn as sns\n",
    "import matplotlib.pyplot as plt\n",
    "plt.figure(figsize=(7,3))\n",
    "chains=df4['city'].value_counts()\n",
    "sns.barplot(x=chains,y=chains.index,palette='deep')\n",
    "plt.title(\"Most famous city in Sudia Arabia\")\n",
    "plt.xlabel(\"Number of freqency\")"
   ]
  },
  {
   "cell_type": "markdown",
   "id": "bc198715",
   "metadata": {
    "papermill": {
     "duration": 0.03292,
     "end_time": "2023-11-12T00:44:05.501282",
     "exception": false,
     "start_time": "2023-11-12T00:44:05.468362",
     "status": "completed"
    },
    "tags": []
   },
   "source": [
    "## [Rating distribution]()<a id=\"6\"></a> <br>"
   ]
  },
  {
   "cell_type": "code",
   "execution_count": 30,
   "id": "17003afd",
   "metadata": {
    "execution": {
     "iopub.execute_input": "2023-11-12T00:44:05.561035Z",
     "iopub.status.busy": "2023-11-12T00:44:05.559566Z",
     "iopub.status.idle": "2023-11-12T00:44:06.004685Z",
     "shell.execute_reply": "2023-11-12T00:44:06.003127Z"
    },
    "papermill": {
     "duration": 0.480118,
     "end_time": "2023-11-12T00:44:06.008199",
     "exception": false,
     "start_time": "2023-11-12T00:44:05.528081",
     "status": "completed"
    },
    "tags": []
   },
   "outputs": [
    {
     "name": "stderr",
     "output_type": "stream",
     "text": [
      "/tmp/ipykernel_20/1086635873.py:3: UserWarning: \n",
      "\n",
      "`distplot` is a deprecated function and will be removed in seaborn v0.14.0.\n",
      "\n",
      "Please adapt your code to use either `displot` (a figure-level function with\n",
      "similar flexibility) or `histplot` (an axes-level function for histograms).\n",
      "\n",
      "For a guide to updating your code to use the new functions, please see\n",
      "https://gist.github.com/mwaskom/de44147ed2974457ad6372750bbe5751\n",
      "\n",
      "  sns.distplot(rating,bins=20)\n"
     ]
    },
    {
     "data": {
      "text/plain": [
       "<Axes: xlabel='rate', ylabel='Density'>"
      ]
     },
     "execution_count": 30,
     "metadata": {},
     "output_type": "execute_result"
    },
    {
     "data": {
      "image/png": "[encoded data removed]",
      "text/plain": [
       "<Figure size 400x300 with 1 Axes>"
      ]
     },
     "metadata": {},
     "output_type": "display_data"
    }
   ],
   "source": [
    "plt.figure(figsize=(4,3))\n",
    "rating=df4['rate']\n",
    "sns.distplot(rating,bins=20)"
   ]
  },
  {
   "cell_type": "markdown",
   "id": "b1f1bd0d",
   "metadata": {
    "papermill": {
     "duration": 0.026254,
     "end_time": "2023-11-12T00:44:06.061368",
     "exception": false,
     "start_time": "2023-11-12T00:44:06.035114",
     "status": "completed"
    },
    "tags": []
   },
   "source": [
    "1. Almost more than 60 percent of place has rating between 4.5 and 5.\n",
    "2. Place having rating less than 4 are very rare."
   ]
  },
  {
   "cell_type": "code",
   "execution_count": 31,
   "id": "29f0a7c4",
   "metadata": {
    "execution": {
     "iopub.execute_input": "2023-11-12T00:44:06.117149Z",
     "iopub.status.busy": "2023-11-12T00:44:06.116620Z",
     "iopub.status.idle": "2023-11-12T00:44:06.456499Z",
     "shell.execute_reply": "2023-11-12T00:44:06.454636Z"
    },
    "papermill": {
     "duration": 0.371738,
     "end_time": "2023-11-12T00:44:06.459814",
     "exception": false,
     "start_time": "2023-11-12T00:44:06.088076",
     "status": "completed"
    },
    "tags": []
   },
   "outputs": [
    {
     "data": {
      "image/png": "[encoded data removed]",
      "text/plain": [
       "<Figure size 500x400 with 1 Axes>"
      ]
     },
     "metadata": {},
     "output_type": "display_data"
    }
   ],
   "source": [
    "plt.figure(figsize=(5,4))\n",
    "sns.scatterplot(x=\"rate\",y='price' , data = df4) #,hue='online_order',data=cost_dist)\n",
    "plt.show()"
   ]
  },
  {
   "cell_type": "code",
   "execution_count": 32,
   "id": "d3a873a4",
   "metadata": {
    "execution": {
     "iopub.execute_input": "2023-11-12T00:44:06.531839Z",
     "iopub.status.busy": "2023-11-12T00:44:06.531349Z",
     "iopub.status.idle": "2023-11-12T00:44:06.543367Z",
     "shell.execute_reply": "2023-11-12T00:44:06.542457Z"
    },
    "papermill": {
     "duration": 0.047994,
     "end_time": "2023-11-12T00:44:06.545763",
     "exception": false,
     "start_time": "2023-11-12T00:44:06.497769",
     "status": "completed"
    },
    "tags": []
   },
   "outputs": [
    {
     "data": {
      "text/plain": [
       "count    1813.000000\n",
       "mean       17.605074\n",
       "std        12.595446\n",
       "min         3.000000\n",
       "25%        10.000000\n",
       "50%        15.000000\n",
       "75%        27.000000\n",
       "max        67.000000\n",
       "Name: num_comments, dtype: float64"
      ]
     },
     "execution_count": 32,
     "metadata": {},
     "output_type": "execute_result"
    }
   ],
   "source": [
    "df4['num_comments'].describe()"
   ]
  },
  {
   "cell_type": "code",
   "execution_count": 33,
   "id": "df146cca",
   "metadata": {
    "execution": {
     "iopub.execute_input": "2023-11-12T00:44:06.604145Z",
     "iopub.status.busy": "2023-11-12T00:44:06.603266Z",
     "iopub.status.idle": "2023-11-12T00:44:06.918894Z",
     "shell.execute_reply": "2023-11-12T00:44:06.917609Z"
    },
    "papermill": {
     "duration": 0.348129,
     "end_time": "2023-11-12T00:44:06.921584",
     "exception": false,
     "start_time": "2023-11-12T00:44:06.573455",
     "status": "completed"
    },
    "tags": []
   },
   "outputs": [
    {
     "data": {
      "image/png": "[encoded data removed]",
      "text/plain": [
       "<Figure size 500x400 with 1 Axes>"
      ]
     },
     "metadata": {},
     "output_type": "display_data"
    }
   ],
   "source": [
    "plt.figure(figsize=(5,4))\n",
    "sns.scatterplot(x=\"num_comments\",y='price' , data = df4 ) #,hue='online_order',data=cost_dist)\n",
    "plt.show()"
   ]
  },
  {
   "cell_type": "code",
   "execution_count": 34,
   "id": "72e3c893",
   "metadata": {
    "execution": {
     "iopub.execute_input": "2023-11-12T00:44:06.981496Z",
     "iopub.status.busy": "2023-11-12T00:44:06.980956Z",
     "iopub.status.idle": "2023-11-12T00:44:07.314277Z",
     "shell.execute_reply": "2023-11-12T00:44:07.312930Z"
    },
    "papermill": {
     "duration": 0.366706,
     "end_time": "2023-11-12T00:44:07.317446",
     "exception": false,
     "start_time": "2023-11-12T00:44:06.950740",
     "status": "completed"
    },
    "tags": []
   },
   "outputs": [
    {
     "data": {
      "image/png": "[encoded data removed]",
      "text/plain": [
       "<Figure size 600x400 with 1 Axes>"
      ]
     },
     "metadata": {},
     "output_type": "display_data"
    }
   ],
   "source": [
    "# Specify the columns you want to plot\n",
    "x_column = 'city'\n",
    "y_column = 'price'\n",
    "# Create a scatter plot\n",
    "plt.figure(figsize=(6, 4))\n",
    "sns.scatterplot(x=df4[x_column], y=df4[y_column], alpha=0.5)\n",
    "# Add labels and title\n",
    "plt.xlabel('City')\n",
    "plt.ylabel('Price')\n",
    "plt.title('Scatter Plot of Price by City')\n",
    "\n",
    "# Show the plot\n",
    "plt.show()"
   ]
  },
  {
   "cell_type": "markdown",
   "id": "c2450fa9",
   "metadata": {
    "papermill": {
     "duration": 0.028912,
     "end_time": "2023-11-12T00:44:07.375726",
     "exception": false,
     "start_time": "2023-11-12T00:44:07.346814",
     "status": "completed"
    },
    "tags": []
   },
   "source": [
    "**we looking teh plot we sea the Riyadh has the heghest price**"
   ]
  },
  {
   "cell_type": "markdown",
   "id": "efb31178",
   "metadata": {
    "papermill": {
     "duration": 0.028888,
     "end_time": "2023-11-12T00:44:07.433674",
     "exception": false,
     "start_time": "2023-11-12T00:44:07.404786",
     "status": "completed"
    },
    "tags": []
   },
   "source": [
    "### [Distribution of House priceing]()"
   ]
  },
  {
   "cell_type": "code",
   "execution_count": 35,
   "id": "3fdcbcf1",
   "metadata": {
    "execution": {
     "iopub.execute_input": "2023-11-12T00:44:07.495367Z",
     "iopub.status.busy": "2023-11-12T00:44:07.494851Z",
     "iopub.status.idle": "2023-11-12T00:44:07.869272Z",
     "shell.execute_reply": "2023-11-12T00:44:07.867862Z"
    },
    "papermill": {
     "duration": 0.40882,
     "end_time": "2023-11-12T00:44:07.872288",
     "exception": false,
     "start_time": "2023-11-12T00:44:07.463468",
     "status": "completed"
    },
    "tags": []
   },
   "outputs": [
    {
     "name": "stderr",
     "output_type": "stream",
     "text": [
      "/tmp/ipykernel_20/3800669170.py:2: UserWarning: \n",
      "\n",
      "`distplot` is a deprecated function and will be removed in seaborn v0.14.0.\n",
      "\n",
      "Please adapt your code to use either `displot` (a figure-level function with\n",
      "similar flexibility) or `histplot` (an axes-level function for histograms).\n",
      "\n",
      "For a guide to updating your code to use the new functions, please see\n",
      "https://gist.github.com/mwaskom/de44147ed2974457ad6372750bbe5751\n",
      "\n",
      "  sns.distplot(df4['price'])\n"
     ]
    },
    {
     "data": {
      "image/png": "[encoded data removed]",
      "text/plain": [
       "<Figure size 600x600 with 1 Axes>"
      ]
     },
     "metadata": {},
     "output_type": "display_data"
    }
   ],
   "source": [
    "plt.figure(figsize=(6,6))\n",
    "sns.distplot(df4['price'])\n",
    "plt.show()"
   ]
  },
  {
   "cell_type": "code",
   "execution_count": 36,
   "id": "54a5ca7a",
   "metadata": {
    "execution": {
     "iopub.execute_input": "2023-11-12T00:44:07.933636Z",
     "iopub.status.busy": "2023-11-12T00:44:07.933136Z",
     "iopub.status.idle": "2023-11-12T00:44:07.966291Z",
     "shell.execute_reply": "2023-11-12T00:44:07.964806Z"
    },
    "papermill": {
     "duration": 0.067504,
     "end_time": "2023-11-12T00:44:07.969318",
     "exception": false,
     "start_time": "2023-11-12T00:44:07.901814",
     "status": "completed"
    },
    "tags": []
   },
   "outputs": [
    {
     "data": {
      "text/html": [
       "<div>\n",
       "<style scoped>\n",
       "    .dataframe tbody tr th:only-of-type {\n",
       "        vertical-align: middle;\n",
       "    }\n",
       "\n",
       "    .dataframe tbody tr th {\n",
       "        vertical-align: top;\n",
       "    }\n",
       "\n",
       "    .dataframe thead th {\n",
       "        text-align: right;\n",
       "    }\n",
       "</style>\n",
       "<table border=\"1\" class=\"dataframe\">\n",
       "  <thead>\n",
       "    <tr style=\"text-align: right;\">\n",
       "      <th></th>\n",
       "      <th>price</th>\n",
       "      <th>num_beds</th>\n",
       "      <th>num_bedrooms</th>\n",
       "      <th>rate</th>\n",
       "      <th>num_comments</th>\n",
       "      <th>city_Jeddah</th>\n",
       "      <th>city_King Abdullah</th>\n",
       "      <th>city_Makkah</th>\n",
       "      <th>city_Riyadh</th>\n",
       "      <th>city_others</th>\n",
       "    </tr>\n",
       "  </thead>\n",
       "  <tbody>\n",
       "    <tr>\n",
       "      <th>2</th>\n",
       "      <td>162.0</td>\n",
       "      <td>2</td>\n",
       "      <td>2</td>\n",
       "      <td>5.00</td>\n",
       "      <td>3.0</td>\n",
       "      <td>False</td>\n",
       "      <td>False</td>\n",
       "      <td>False</td>\n",
       "      <td>True</td>\n",
       "      <td>False</td>\n",
       "    </tr>\n",
       "    <tr>\n",
       "      <th>7</th>\n",
       "      <td>176.0</td>\n",
       "      <td>2</td>\n",
       "      <td>2</td>\n",
       "      <td>4.93</td>\n",
       "      <td>67.0</td>\n",
       "      <td>False</td>\n",
       "      <td>False</td>\n",
       "      <td>False</td>\n",
       "      <td>True</td>\n",
       "      <td>False</td>\n",
       "    </tr>\n",
       "    <tr>\n",
       "      <th>9</th>\n",
       "      <td>105.0</td>\n",
       "      <td>3</td>\n",
       "      <td>2</td>\n",
       "      <td>4.88</td>\n",
       "      <td>33.0</td>\n",
       "      <td>False</td>\n",
       "      <td>False</td>\n",
       "      <td>False</td>\n",
       "      <td>True</td>\n",
       "      <td>False</td>\n",
       "    </tr>\n",
       "    <tr>\n",
       "      <th>11</th>\n",
       "      <td>182.0</td>\n",
       "      <td>1</td>\n",
       "      <td>1</td>\n",
       "      <td>4.85</td>\n",
       "      <td>13.0</td>\n",
       "      <td>False</td>\n",
       "      <td>False</td>\n",
       "      <td>False</td>\n",
       "      <td>False</td>\n",
       "      <td>False</td>\n",
       "    </tr>\n",
       "    <tr>\n",
       "      <th>15</th>\n",
       "      <td>57.0</td>\n",
       "      <td>1</td>\n",
       "      <td>1</td>\n",
       "      <td>4.90</td>\n",
       "      <td>21.0</td>\n",
       "      <td>True</td>\n",
       "      <td>False</td>\n",
       "      <td>False</td>\n",
       "      <td>False</td>\n",
       "      <td>False</td>\n",
       "    </tr>\n",
       "    <tr>\n",
       "      <th>...</th>\n",
       "      <td>...</td>\n",
       "      <td>...</td>\n",
       "      <td>...</td>\n",
       "      <td>...</td>\n",
       "      <td>...</td>\n",
       "      <td>...</td>\n",
       "      <td>...</td>\n",
       "      <td>...</td>\n",
       "      <td>...</td>\n",
       "      <td>...</td>\n",
       "    </tr>\n",
       "    <tr>\n",
       "      <th>3592</th>\n",
       "      <td>139.0</td>\n",
       "      <td>4</td>\n",
       "      <td>2</td>\n",
       "      <td>5.00</td>\n",
       "      <td>3.0</td>\n",
       "      <td>False</td>\n",
       "      <td>False</td>\n",
       "      <td>False</td>\n",
       "      <td>True</td>\n",
       "      <td>False</td>\n",
       "    </tr>\n",
       "    <tr>\n",
       "      <th>3594</th>\n",
       "      <td>111.0</td>\n",
       "      <td>5</td>\n",
       "      <td>3</td>\n",
       "      <td>5.00</td>\n",
       "      <td>4.0</td>\n",
       "      <td>True</td>\n",
       "      <td>False</td>\n",
       "      <td>False</td>\n",
       "      <td>False</td>\n",
       "      <td>False</td>\n",
       "    </tr>\n",
       "    <tr>\n",
       "      <th>3595</th>\n",
       "      <td>91.0</td>\n",
       "      <td>3</td>\n",
       "      <td>2</td>\n",
       "      <td>5.00</td>\n",
       "      <td>11.0</td>\n",
       "      <td>False</td>\n",
       "      <td>False</td>\n",
       "      <td>False</td>\n",
       "      <td>True</td>\n",
       "      <td>False</td>\n",
       "    </tr>\n",
       "    <tr>\n",
       "      <th>3598</th>\n",
       "      <td>133.0</td>\n",
       "      <td>3</td>\n",
       "      <td>2</td>\n",
       "      <td>4.81</td>\n",
       "      <td>16.0</td>\n",
       "      <td>False</td>\n",
       "      <td>False</td>\n",
       "      <td>False</td>\n",
       "      <td>True</td>\n",
       "      <td>False</td>\n",
       "    </tr>\n",
       "    <tr>\n",
       "      <th>3599</th>\n",
       "      <td>173.0</td>\n",
       "      <td>1</td>\n",
       "      <td>1</td>\n",
       "      <td>5.00</td>\n",
       "      <td>10.0</td>\n",
       "      <td>False</td>\n",
       "      <td>False</td>\n",
       "      <td>False</td>\n",
       "      <td>True</td>\n",
       "      <td>False</td>\n",
       "    </tr>\n",
       "  </tbody>\n",
       "</table>\n",
       "<p>1813 rows × 10 columns</p>\n",
       "</div>"
      ],
      "text/plain": [
       "      price num_beds num_bedrooms  rate  num_comments  city_Jeddah  \\\n",
       "2     162.0        2            2  5.00           3.0        False   \n",
       "7     176.0        2            2  4.93          67.0        False   \n",
       "9     105.0        3            2  4.88          33.0        False   \n",
       "11    182.0        1            1  4.85          13.0        False   \n",
       "15     57.0        1            1  4.90          21.0         True   \n",
       "...     ...      ...          ...   ...           ...          ...   \n",
       "3592  139.0        4            2  5.00           3.0        False   \n",
       "3594  111.0        5            3  5.00           4.0         True   \n",
       "3595   91.0        3            2  5.00          11.0        False   \n",
       "3598  133.0        3            2  4.81          16.0        False   \n",
       "3599  173.0        1            1  5.00          10.0        False   \n",
       "\n",
       "      city_King Abdullah  city_Makkah  city_Riyadh  city_others  \n",
       "2                  False        False         True        False  \n",
       "7                  False        False         True        False  \n",
       "9                  False        False         True        False  \n",
       "11                 False        False        False        False  \n",
       "15                 False        False        False        False  \n",
       "...                  ...          ...          ...          ...  \n",
       "3592               False        False         True        False  \n",
       "3594               False        False        False        False  \n",
       "3595               False        False         True        False  \n",
       "3598               False        False         True        False  \n",
       "3599               False        False         True        False  \n",
       "\n",
       "[1813 rows x 10 columns]"
      ]
     },
     "execution_count": 36,
     "metadata": {},
     "output_type": "execute_result"
    }
   ],
   "source": [
    "df4_encoded = pd.get_dummies(df4, columns=['city'], prefix='city')\n",
    "\n",
    "df4_encoded"
   ]
  },
  {
   "cell_type": "code",
   "execution_count": 37,
   "id": "c2c581ea",
   "metadata": {
    "execution": {
     "iopub.execute_input": "2023-11-12T00:44:08.039160Z",
     "iopub.status.busy": "2023-11-12T00:44:08.038083Z",
     "iopub.status.idle": "2023-11-12T00:44:08.043834Z",
     "shell.execute_reply": "2023-11-12T00:44:08.042648Z"
    },
    "papermill": {
     "duration": 0.046139,
     "end_time": "2023-11-12T00:44:08.046581",
     "exception": false,
     "start_time": "2023-11-12T00:44:08.000442",
     "status": "completed"
    },
    "tags": []
   },
   "outputs": [],
   "source": [
    "# df4 = pd.concat([ clean_data ,dummiess_city ],axis='columns')\n",
    "# df4.head()"
   ]
  },
  {
   "cell_type": "code",
   "execution_count": 38,
   "id": "c57388bd",
   "metadata": {
    "execution": {
     "iopub.execute_input": "2023-11-12T00:44:08.111213Z",
     "iopub.status.busy": "2023-11-12T00:44:08.109824Z",
     "iopub.status.idle": "2023-11-12T00:44:08.129996Z",
     "shell.execute_reply": "2023-11-12T00:44:08.129042Z"
    },
    "papermill": {
     "duration": 0.055893,
     "end_time": "2023-11-12T00:44:08.132961",
     "exception": false,
     "start_time": "2023-11-12T00:44:08.077068",
     "status": "completed"
    },
    "tags": []
   },
   "outputs": [
    {
     "name": "stdout",
     "output_type": "stream",
     "text": [
      "DataFrame after removing rows with null values or spaces:\n",
      "      price num_beds num_bedrooms  rate  num_comments  city_Jeddah  \\\n",
      "2     162.0        2            2  5.00           3.0        False   \n",
      "7     176.0        2            2  4.93          67.0        False   \n",
      "9     105.0        3            2  4.88          33.0        False   \n",
      "11    182.0        1            1  4.85          13.0        False   \n",
      "15     57.0        1            1  4.90          21.0         True   \n",
      "...     ...      ...          ...   ...           ...          ...   \n",
      "3592  139.0        4            2  5.00           3.0        False   \n",
      "3594  111.0        5            3  5.00           4.0         True   \n",
      "3595   91.0        3            2  5.00          11.0        False   \n",
      "3598  133.0        3            2  4.81          16.0        False   \n",
      "3599  173.0        1            1  5.00          10.0        False   \n",
      "\n",
      "      city_King Abdullah  city_Makkah  city_Riyadh  city_others  \n",
      "2                  False        False         True        False  \n",
      "7                  False        False         True        False  \n",
      "9                  False        False         True        False  \n",
      "11                 False        False        False        False  \n",
      "15                 False        False        False        False  \n",
      "...                  ...          ...          ...          ...  \n",
      "3592               False        False         True        False  \n",
      "3594               False        False        False        False  \n",
      "3595               False        False         True        False  \n",
      "3598               False        False         True        False  \n",
      "3599               False        False         True        False  \n",
      "\n",
      "[1813 rows x 10 columns]\n"
     ]
    }
   ],
   "source": [
    "# Replace spaces with NaN\n",
    "df4_encoded.replace(' ', pd.NA, inplace=True)\n",
    "# Drop rows with any null values\n",
    "df5  = df4_encoded.dropna()\n",
    "# Display the cleaned DataFrame\n",
    "print(\"DataFrame after removing rows with null values or spaces:\")\n",
    "print(df5)"
   ]
  },
  {
   "cell_type": "code",
   "execution_count": 39,
   "id": "19889aca",
   "metadata": {
    "execution": {
     "iopub.execute_input": "2023-11-12T00:44:08.196980Z",
     "iopub.status.busy": "2023-11-12T00:44:08.195733Z",
     "iopub.status.idle": "2023-11-12T00:44:08.221024Z",
     "shell.execute_reply": "2023-11-12T00:44:08.219743Z"
    },
    "papermill": {
     "duration": 0.060118,
     "end_time": "2023-11-12T00:44:08.223852",
     "exception": false,
     "start_time": "2023-11-12T00:44:08.163734",
     "status": "completed"
    },
    "tags": []
   },
   "outputs": [
    {
     "data": {
      "text/html": [
       "<div>\n",
       "<style scoped>\n",
       "    .dataframe tbody tr th:only-of-type {\n",
       "        vertical-align: middle;\n",
       "    }\n",
       "\n",
       "    .dataframe tbody tr th {\n",
       "        vertical-align: top;\n",
       "    }\n",
       "\n",
       "    .dataframe thead th {\n",
       "        text-align: right;\n",
       "    }\n",
       "</style>\n",
       "<table border=\"1\" class=\"dataframe\">\n",
       "  <thead>\n",
       "    <tr style=\"text-align: right;\">\n",
       "      <th></th>\n",
       "      <th>price</th>\n",
       "      <th>num_beds</th>\n",
       "      <th>num_bedrooms</th>\n",
       "      <th>rate</th>\n",
       "      <th>num_comments</th>\n",
       "      <th>city_Jeddah</th>\n",
       "      <th>city_King Abdullah</th>\n",
       "      <th>city_Makkah</th>\n",
       "      <th>city_Riyadh</th>\n",
       "      <th>city_others</th>\n",
       "    </tr>\n",
       "  </thead>\n",
       "  <tbody>\n",
       "    <tr>\n",
       "      <th>2</th>\n",
       "      <td>162.0</td>\n",
       "      <td>2</td>\n",
       "      <td>2</td>\n",
       "      <td>5.00</td>\n",
       "      <td>3.0</td>\n",
       "      <td>False</td>\n",
       "      <td>False</td>\n",
       "      <td>False</td>\n",
       "      <td>True</td>\n",
       "      <td>False</td>\n",
       "    </tr>\n",
       "    <tr>\n",
       "      <th>7</th>\n",
       "      <td>176.0</td>\n",
       "      <td>2</td>\n",
       "      <td>2</td>\n",
       "      <td>4.93</td>\n",
       "      <td>67.0</td>\n",
       "      <td>False</td>\n",
       "      <td>False</td>\n",
       "      <td>False</td>\n",
       "      <td>True</td>\n",
       "      <td>False</td>\n",
       "    </tr>\n",
       "    <tr>\n",
       "      <th>9</th>\n",
       "      <td>105.0</td>\n",
       "      <td>3</td>\n",
       "      <td>2</td>\n",
       "      <td>4.88</td>\n",
       "      <td>33.0</td>\n",
       "      <td>False</td>\n",
       "      <td>False</td>\n",
       "      <td>False</td>\n",
       "      <td>True</td>\n",
       "      <td>False</td>\n",
       "    </tr>\n",
       "    <tr>\n",
       "      <th>11</th>\n",
       "      <td>182.0</td>\n",
       "      <td>1</td>\n",
       "      <td>1</td>\n",
       "      <td>4.85</td>\n",
       "      <td>13.0</td>\n",
       "      <td>False</td>\n",
       "      <td>False</td>\n",
       "      <td>False</td>\n",
       "      <td>False</td>\n",
       "      <td>False</td>\n",
       "    </tr>\n",
       "    <tr>\n",
       "      <th>15</th>\n",
       "      <td>57.0</td>\n",
       "      <td>1</td>\n",
       "      <td>1</td>\n",
       "      <td>4.90</td>\n",
       "      <td>21.0</td>\n",
       "      <td>True</td>\n",
       "      <td>False</td>\n",
       "      <td>False</td>\n",
       "      <td>False</td>\n",
       "      <td>False</td>\n",
       "    </tr>\n",
       "    <tr>\n",
       "      <th>...</th>\n",
       "      <td>...</td>\n",
       "      <td>...</td>\n",
       "      <td>...</td>\n",
       "      <td>...</td>\n",
       "      <td>...</td>\n",
       "      <td>...</td>\n",
       "      <td>...</td>\n",
       "      <td>...</td>\n",
       "      <td>...</td>\n",
       "      <td>...</td>\n",
       "    </tr>\n",
       "    <tr>\n",
       "      <th>3592</th>\n",
       "      <td>139.0</td>\n",
       "      <td>4</td>\n",
       "      <td>2</td>\n",
       "      <td>5.00</td>\n",
       "      <td>3.0</td>\n",
       "      <td>False</td>\n",
       "      <td>False</td>\n",
       "      <td>False</td>\n",
       "      <td>True</td>\n",
       "      <td>False</td>\n",
       "    </tr>\n",
       "    <tr>\n",
       "      <th>3594</th>\n",
       "      <td>111.0</td>\n",
       "      <td>5</td>\n",
       "      <td>3</td>\n",
       "      <td>5.00</td>\n",
       "      <td>4.0</td>\n",
       "      <td>True</td>\n",
       "      <td>False</td>\n",
       "      <td>False</td>\n",
       "      <td>False</td>\n",
       "      <td>False</td>\n",
       "    </tr>\n",
       "    <tr>\n",
       "      <th>3595</th>\n",
       "      <td>91.0</td>\n",
       "      <td>3</td>\n",
       "      <td>2</td>\n",
       "      <td>5.00</td>\n",
       "      <td>11.0</td>\n",
       "      <td>False</td>\n",
       "      <td>False</td>\n",
       "      <td>False</td>\n",
       "      <td>True</td>\n",
       "      <td>False</td>\n",
       "    </tr>\n",
       "    <tr>\n",
       "      <th>3598</th>\n",
       "      <td>133.0</td>\n",
       "      <td>3</td>\n",
       "      <td>2</td>\n",
       "      <td>4.81</td>\n",
       "      <td>16.0</td>\n",
       "      <td>False</td>\n",
       "      <td>False</td>\n",
       "      <td>False</td>\n",
       "      <td>True</td>\n",
       "      <td>False</td>\n",
       "    </tr>\n",
       "    <tr>\n",
       "      <th>3599</th>\n",
       "      <td>173.0</td>\n",
       "      <td>1</td>\n",
       "      <td>1</td>\n",
       "      <td>5.00</td>\n",
       "      <td>10.0</td>\n",
       "      <td>False</td>\n",
       "      <td>False</td>\n",
       "      <td>False</td>\n",
       "      <td>True</td>\n",
       "      <td>False</td>\n",
       "    </tr>\n",
       "  </tbody>\n",
       "</table>\n",
       "<p>1813 rows × 10 columns</p>\n",
       "</div>"
      ],
      "text/plain": [
       "      price num_beds num_bedrooms  rate  num_comments  city_Jeddah  \\\n",
       "2     162.0        2            2  5.00           3.0        False   \n",
       "7     176.0        2            2  4.93          67.0        False   \n",
       "9     105.0        3            2  4.88          33.0        False   \n",
       "11    182.0        1            1  4.85          13.0        False   \n",
       "15     57.0        1            1  4.90          21.0         True   \n",
       "...     ...      ...          ...   ...           ...          ...   \n",
       "3592  139.0        4            2  5.00           3.0        False   \n",
       "3594  111.0        5            3  5.00           4.0         True   \n",
       "3595   91.0        3            2  5.00          11.0        False   \n",
       "3598  133.0        3            2  4.81          16.0        False   \n",
       "3599  173.0        1            1  5.00          10.0        False   \n",
       "\n",
       "      city_King Abdullah  city_Makkah  city_Riyadh  city_others  \n",
       "2                  False        False         True        False  \n",
       "7                  False        False         True        False  \n",
       "9                  False        False         True        False  \n",
       "11                 False        False        False        False  \n",
       "15                 False        False        False        False  \n",
       "...                  ...          ...          ...          ...  \n",
       "3592               False        False         True        False  \n",
       "3594               False        False        False        False  \n",
       "3595               False        False         True        False  \n",
       "3598               False        False         True        False  \n",
       "3599               False        False         True        False  \n",
       "\n",
       "[1813 rows x 10 columns]"
      ]
     },
     "execution_count": 39,
     "metadata": {},
     "output_type": "execute_result"
    }
   ],
   "source": [
    "df5"
   ]
  },
  {
   "cell_type": "code",
   "execution_count": 40,
   "id": "5a94e4a4",
   "metadata": {
    "execution": {
     "iopub.execute_input": "2023-11-12T00:44:08.290387Z",
     "iopub.status.busy": "2023-11-12T00:44:08.289885Z",
     "iopub.status.idle": "2023-11-12T00:44:08.295609Z",
     "shell.execute_reply": "2023-11-12T00:44:08.294414Z"
    },
    "papermill": {
     "duration": 0.042314,
     "end_time": "2023-11-12T00:44:08.298160",
     "exception": false,
     "start_time": "2023-11-12T00:44:08.255846",
     "status": "completed"
    },
    "tags": []
   },
   "outputs": [],
   "source": [
    "import pandas as pd\n",
    "\n",
    "# Assuming 'df12_cleaned' is your cleaned DataFrame\n",
    "# This should be the DataFrame after removing rows with null values or spaces\n",
    "\n",
    "# # Convert True/False to 1/0\n",
    "# boolean_columns = ['Jeddah', 'King Abdullah', 'Makkah', 'Riyadh', 'others']\n",
    "# df5[boolean_columns] = df5[boolean_columns].astype(int)\n",
    "\n",
    "# # Delete the 'city' column\n",
    "# df5.drop('city', axis=1, inplace=True)\n",
    "\n",
    "# # Display the modified DataFrame\n",
    "# print(\"DataFrame after converting True/False to 1/0 and deleting 'city' column:\")\n",
    "# print(df12_cleaned)\n"
   ]
  },
  {
   "cell_type": "code",
   "execution_count": 41,
   "id": "d2b167e2",
   "metadata": {
    "execution": {
     "iopub.execute_input": "2023-11-12T00:44:08.362973Z",
     "iopub.status.busy": "2023-11-12T00:44:08.362401Z",
     "iopub.status.idle": "2023-11-12T00:44:08.367605Z",
     "shell.execute_reply": "2023-11-12T00:44:08.366463Z"
    },
    "papermill": {
     "duration": 0.040886,
     "end_time": "2023-11-12T00:44:08.370137",
     "exception": false,
     "start_time": "2023-11-12T00:44:08.329251",
     "status": "completed"
    },
    "tags": []
   },
   "outputs": [],
   "source": [
    "# # Check for null values\n",
    "# null_values = df12.isnull().sum()\n",
    "\n",
    "# # Display the columns with null values\n",
    "# columns_with_null = null_values[null_values > 0]\n",
    "# print(\"Columns with Null Values:\")\n",
    "# print(columns_with_null)"
   ]
  },
  {
   "cell_type": "code",
   "execution_count": 42,
   "id": "d6ba49ba",
   "metadata": {
    "execution": {
     "iopub.execute_input": "2023-11-12T00:44:08.434319Z",
     "iopub.status.busy": "2023-11-12T00:44:08.433080Z",
     "iopub.status.idle": "2023-11-12T00:44:08.463571Z",
     "shell.execute_reply": "2023-11-12T00:44:08.462175Z"
    },
    "papermill": {
     "duration": 0.065353,
     "end_time": "2023-11-12T00:44:08.466335",
     "exception": false,
     "start_time": "2023-11-12T00:44:08.400982",
     "status": "completed"
    },
    "tags": []
   },
   "outputs": [
    {
     "data": {
      "text/html": [
       "<div>\n",
       "<style scoped>\n",
       "    .dataframe tbody tr th:only-of-type {\n",
       "        vertical-align: middle;\n",
       "    }\n",
       "\n",
       "    .dataframe tbody tr th {\n",
       "        vertical-align: top;\n",
       "    }\n",
       "\n",
       "    .dataframe thead th {\n",
       "        text-align: right;\n",
       "    }\n",
       "</style>\n",
       "<table border=\"1\" class=\"dataframe\">\n",
       "  <thead>\n",
       "    <tr style=\"text-align: right;\">\n",
       "      <th></th>\n",
       "      <th>price</th>\n",
       "      <th>num_beds</th>\n",
       "      <th>num_bedrooms</th>\n",
       "      <th>rate</th>\n",
       "      <th>num_comments</th>\n",
       "      <th>city_Jeddah</th>\n",
       "      <th>city_King Abdullah</th>\n",
       "      <th>city_Makkah</th>\n",
       "      <th>city_Riyadh</th>\n",
       "      <th>city_others</th>\n",
       "    </tr>\n",
       "  </thead>\n",
       "  <tbody>\n",
       "    <tr>\n",
       "      <th>2</th>\n",
       "      <td>162.0</td>\n",
       "      <td>2</td>\n",
       "      <td>2</td>\n",
       "      <td>5.00</td>\n",
       "      <td>3.0</td>\n",
       "      <td>0</td>\n",
       "      <td>0</td>\n",
       "      <td>0</td>\n",
       "      <td>1</td>\n",
       "      <td>0</td>\n",
       "    </tr>\n",
       "    <tr>\n",
       "      <th>7</th>\n",
       "      <td>176.0</td>\n",
       "      <td>2</td>\n",
       "      <td>2</td>\n",
       "      <td>4.93</td>\n",
       "      <td>67.0</td>\n",
       "      <td>0</td>\n",
       "      <td>0</td>\n",
       "      <td>0</td>\n",
       "      <td>1</td>\n",
       "      <td>0</td>\n",
       "    </tr>\n",
       "    <tr>\n",
       "      <th>9</th>\n",
       "      <td>105.0</td>\n",
       "      <td>3</td>\n",
       "      <td>2</td>\n",
       "      <td>4.88</td>\n",
       "      <td>33.0</td>\n",
       "      <td>0</td>\n",
       "      <td>0</td>\n",
       "      <td>0</td>\n",
       "      <td>1</td>\n",
       "      <td>0</td>\n",
       "    </tr>\n",
       "    <tr>\n",
       "      <th>11</th>\n",
       "      <td>182.0</td>\n",
       "      <td>1</td>\n",
       "      <td>1</td>\n",
       "      <td>4.85</td>\n",
       "      <td>13.0</td>\n",
       "      <td>0</td>\n",
       "      <td>0</td>\n",
       "      <td>0</td>\n",
       "      <td>0</td>\n",
       "      <td>0</td>\n",
       "    </tr>\n",
       "    <tr>\n",
       "      <th>15</th>\n",
       "      <td>57.0</td>\n",
       "      <td>1</td>\n",
       "      <td>1</td>\n",
       "      <td>4.90</td>\n",
       "      <td>21.0</td>\n",
       "      <td>1</td>\n",
       "      <td>0</td>\n",
       "      <td>0</td>\n",
       "      <td>0</td>\n",
       "      <td>0</td>\n",
       "    </tr>\n",
       "    <tr>\n",
       "      <th>...</th>\n",
       "      <td>...</td>\n",
       "      <td>...</td>\n",
       "      <td>...</td>\n",
       "      <td>...</td>\n",
       "      <td>...</td>\n",
       "      <td>...</td>\n",
       "      <td>...</td>\n",
       "      <td>...</td>\n",
       "      <td>...</td>\n",
       "      <td>...</td>\n",
       "    </tr>\n",
       "    <tr>\n",
       "      <th>3592</th>\n",
       "      <td>139.0</td>\n",
       "      <td>4</td>\n",
       "      <td>2</td>\n",
       "      <td>5.00</td>\n",
       "      <td>3.0</td>\n",
       "      <td>0</td>\n",
       "      <td>0</td>\n",
       "      <td>0</td>\n",
       "      <td>1</td>\n",
       "      <td>0</td>\n",
       "    </tr>\n",
       "    <tr>\n",
       "      <th>3594</th>\n",
       "      <td>111.0</td>\n",
       "      <td>5</td>\n",
       "      <td>3</td>\n",
       "      <td>5.00</td>\n",
       "      <td>4.0</td>\n",
       "      <td>1</td>\n",
       "      <td>0</td>\n",
       "      <td>0</td>\n",
       "      <td>0</td>\n",
       "      <td>0</td>\n",
       "    </tr>\n",
       "    <tr>\n",
       "      <th>3595</th>\n",
       "      <td>91.0</td>\n",
       "      <td>3</td>\n",
       "      <td>2</td>\n",
       "      <td>5.00</td>\n",
       "      <td>11.0</td>\n",
       "      <td>0</td>\n",
       "      <td>0</td>\n",
       "      <td>0</td>\n",
       "      <td>1</td>\n",
       "      <td>0</td>\n",
       "    </tr>\n",
       "    <tr>\n",
       "      <th>3598</th>\n",
       "      <td>133.0</td>\n",
       "      <td>3</td>\n",
       "      <td>2</td>\n",
       "      <td>4.81</td>\n",
       "      <td>16.0</td>\n",
       "      <td>0</td>\n",
       "      <td>0</td>\n",
       "      <td>0</td>\n",
       "      <td>1</td>\n",
       "      <td>0</td>\n",
       "    </tr>\n",
       "    <tr>\n",
       "      <th>3599</th>\n",
       "      <td>173.0</td>\n",
       "      <td>1</td>\n",
       "      <td>1</td>\n",
       "      <td>5.00</td>\n",
       "      <td>10.0</td>\n",
       "      <td>0</td>\n",
       "      <td>0</td>\n",
       "      <td>0</td>\n",
       "      <td>1</td>\n",
       "      <td>0</td>\n",
       "    </tr>\n",
       "  </tbody>\n",
       "</table>\n",
       "<p>1813 rows × 10 columns</p>\n",
       "</div>"
      ],
      "text/plain": [
       "      price num_beds num_bedrooms  rate  num_comments  city_Jeddah  \\\n",
       "2     162.0        2            2  5.00           3.0            0   \n",
       "7     176.0        2            2  4.93          67.0            0   \n",
       "9     105.0        3            2  4.88          33.0            0   \n",
       "11    182.0        1            1  4.85          13.0            0   \n",
       "15     57.0        1            1  4.90          21.0            1   \n",
       "...     ...      ...          ...   ...           ...          ...   \n",
       "3592  139.0        4            2  5.00           3.0            0   \n",
       "3594  111.0        5            3  5.00           4.0            1   \n",
       "3595   91.0        3            2  5.00          11.0            0   \n",
       "3598  133.0        3            2  4.81          16.0            0   \n",
       "3599  173.0        1            1  5.00          10.0            0   \n",
       "\n",
       "      city_King Abdullah  city_Makkah  city_Riyadh  city_others  \n",
       "2                      0            0            1            0  \n",
       "7                      0            0            1            0  \n",
       "9                      0            0            1            0  \n",
       "11                     0            0            0            0  \n",
       "15                     0            0            0            0  \n",
       "...                  ...          ...          ...          ...  \n",
       "3592                   0            0            1            0  \n",
       "3594                   0            0            0            0  \n",
       "3595                   0            0            1            0  \n",
       "3598                   0            0            1            0  \n",
       "3599                   0            0            1            0  \n",
       "\n",
       "[1813 rows x 10 columns]"
      ]
     },
     "execution_count": 42,
     "metadata": {},
     "output_type": "execute_result"
    }
   ],
   "source": [
    "df5[['city_Jeddah', 'city_King Abdullah', 'city_Makkah', 'city_Riyadh', 'city_others']] = df5[['city_Jeddah', 'city_King Abdullah', 'city_Makkah', 'city_Riyadh', 'city_others']].astype(int)\n",
    "df5"
   ]
  },
  {
   "cell_type": "code",
   "execution_count": 43,
   "id": "16eb4925",
   "metadata": {
    "execution": {
     "iopub.execute_input": "2023-11-12T00:44:08.534158Z",
     "iopub.status.busy": "2023-11-12T00:44:08.533102Z",
     "iopub.status.idle": "2023-11-12T00:44:08.543963Z",
     "shell.execute_reply": "2023-11-12T00:44:08.542961Z"
    },
    "papermill": {
     "duration": 0.046463,
     "end_time": "2023-11-12T00:44:08.546399",
     "exception": false,
     "start_time": "2023-11-12T00:44:08.499936",
     "status": "completed"
    },
    "tags": []
   },
   "outputs": [
    {
     "data": {
      "text/plain": [
       "price                 float64\n",
       "num_beds                int64\n",
       "num_bedrooms            int64\n",
       "rate                  float64\n",
       "num_comments          float64\n",
       "city_Jeddah             int64\n",
       "city_King Abdullah      int64\n",
       "city_Makkah             int64\n",
       "city_Riyadh             int64\n",
       "city_others             int64\n",
       "dtype: object"
      ]
     },
     "execution_count": 43,
     "metadata": {},
     "output_type": "execute_result"
    }
   ],
   "source": [
    "df5['num_beds'] = df5['num_beds'].astype(int)\n",
    "df5['num_bedrooms'] = df5['num_bedrooms'].astype(int)\n",
    "df5.dtypes"
   ]
  },
  {
   "cell_type": "code",
   "execution_count": 44,
   "id": "60835fcb",
   "metadata": {
    "execution": {
     "iopub.execute_input": "2023-11-12T00:44:08.612762Z",
     "iopub.status.busy": "2023-11-12T00:44:08.612038Z",
     "iopub.status.idle": "2023-11-12T00:44:09.151661Z",
     "shell.execute_reply": "2023-11-12T00:44:09.150243Z"
    },
    "papermill": {
     "duration": 0.576801,
     "end_time": "2023-11-12T00:44:09.154725",
     "exception": false,
     "start_time": "2023-11-12T00:44:08.577924",
     "status": "completed"
    },
    "tags": []
   },
   "outputs": [
    {
     "data": {
      "text/plain": [
       "<Axes: >"
      ]
     },
     "execution_count": 44,
     "metadata": {},
     "output_type": "execute_result"
    },
    {
     "data": {
      "image/png": "[encoded data removed]",
      "text/plain": [
       "<Figure size 640x480 with 2 Axes>"
      ]
     },
     "metadata": {},
     "output_type": "display_data"
    }
   ],
   "source": [
    "sns.heatmap(df5.corr()) "
   ]
  },
  {
   "cell_type": "code",
   "execution_count": 45,
   "id": "3c64da65",
   "metadata": {
    "execution": {
     "iopub.execute_input": "2023-11-12T00:44:09.223211Z",
     "iopub.status.busy": "2023-11-12T00:44:09.221648Z",
     "iopub.status.idle": "2023-11-12T00:44:09.227678Z",
     "shell.execute_reply": "2023-11-12T00:44:09.226783Z"
    },
    "papermill": {
     "duration": 0.042841,
     "end_time": "2023-11-12T00:44:09.230215",
     "exception": false,
     "start_time": "2023-11-12T00:44:09.187374",
     "status": "completed"
    },
    "tags": []
   },
   "outputs": [],
   "source": [
    "# df5['bedrooms'] = df5['num_beds'] + df5['num_bedrooms']"
   ]
  },
  {
   "cell_type": "code",
   "execution_count": 46,
   "id": "30c4d794",
   "metadata": {
    "execution": {
     "iopub.execute_input": "2023-11-12T00:44:09.299033Z",
     "iopub.status.busy": "2023-11-12T00:44:09.297655Z",
     "iopub.status.idle": "2023-11-12T00:44:09.316465Z",
     "shell.execute_reply": "2023-11-12T00:44:09.315195Z"
    },
    "papermill": {
     "duration": 0.056691,
     "end_time": "2023-11-12T00:44:09.319322",
     "exception": false,
     "start_time": "2023-11-12T00:44:09.262631",
     "status": "completed"
    },
    "tags": []
   },
   "outputs": [
    {
     "data": {
      "text/html": [
       "<div>\n",
       "<style scoped>\n",
       "    .dataframe tbody tr th:only-of-type {\n",
       "        vertical-align: middle;\n",
       "    }\n",
       "\n",
       "    .dataframe tbody tr th {\n",
       "        vertical-align: top;\n",
       "    }\n",
       "\n",
       "    .dataframe thead th {\n",
       "        text-align: right;\n",
       "    }\n",
       "</style>\n",
       "<table border=\"1\" class=\"dataframe\">\n",
       "  <thead>\n",
       "    <tr style=\"text-align: right;\">\n",
       "      <th></th>\n",
       "      <th>num_beds</th>\n",
       "      <th>num_bedrooms</th>\n",
       "      <th>rate</th>\n",
       "      <th>num_comments</th>\n",
       "      <th>city_Jeddah</th>\n",
       "      <th>city_King Abdullah</th>\n",
       "      <th>city_Makkah</th>\n",
       "      <th>city_Riyadh</th>\n",
       "      <th>city_others</th>\n",
       "    </tr>\n",
       "  </thead>\n",
       "  <tbody>\n",
       "    <tr>\n",
       "      <th>2</th>\n",
       "      <td>2</td>\n",
       "      <td>2</td>\n",
       "      <td>5.00</td>\n",
       "      <td>3.0</td>\n",
       "      <td>0</td>\n",
       "      <td>0</td>\n",
       "      <td>0</td>\n",
       "      <td>1</td>\n",
       "      <td>0</td>\n",
       "    </tr>\n",
       "    <tr>\n",
       "      <th>7</th>\n",
       "      <td>2</td>\n",
       "      <td>2</td>\n",
       "      <td>4.93</td>\n",
       "      <td>67.0</td>\n",
       "      <td>0</td>\n",
       "      <td>0</td>\n",
       "      <td>0</td>\n",
       "      <td>1</td>\n",
       "      <td>0</td>\n",
       "    </tr>\n",
       "    <tr>\n",
       "      <th>9</th>\n",
       "      <td>3</td>\n",
       "      <td>2</td>\n",
       "      <td>4.88</td>\n",
       "      <td>33.0</td>\n",
       "      <td>0</td>\n",
       "      <td>0</td>\n",
       "      <td>0</td>\n",
       "      <td>1</td>\n",
       "      <td>0</td>\n",
       "    </tr>\n",
       "  </tbody>\n",
       "</table>\n",
       "</div>"
      ],
      "text/plain": [
       "   num_beds  num_bedrooms  rate  num_comments  city_Jeddah  \\\n",
       "2         2             2  5.00           3.0            0   \n",
       "7         2             2  4.93          67.0            0   \n",
       "9         3             2  4.88          33.0            0   \n",
       "\n",
       "   city_King Abdullah  city_Makkah  city_Riyadh  city_others  \n",
       "2                   0            0            1            0  \n",
       "7                   0            0            1            0  \n",
       "9                   0            0            1            0  "
      ]
     },
     "execution_count": 46,
     "metadata": {},
     "output_type": "execute_result"
    }
   ],
   "source": [
    "X = df5.drop(['price'] , axis='columns')\n",
    "X.head(3)"
   ]
  },
  {
   "cell_type": "code",
   "execution_count": 47,
   "id": "f954257f",
   "metadata": {
    "execution": {
     "iopub.execute_input": "2023-11-12T00:44:09.387232Z",
     "iopub.status.busy": "2023-11-12T00:44:09.386764Z",
     "iopub.status.idle": "2023-11-12T00:44:09.396152Z",
     "shell.execute_reply": "2023-11-12T00:44:09.394979Z"
    },
    "papermill": {
     "duration": 0.046744,
     "end_time": "2023-11-12T00:44:09.398807",
     "exception": false,
     "start_time": "2023-11-12T00:44:09.352063",
     "status": "completed"
    },
    "tags": []
   },
   "outputs": [
    {
     "data": {
      "text/plain": [
       "2    162.0\n",
       "7    176.0\n",
       "9    105.0\n",
       "Name: price, dtype: float64"
      ]
     },
     "execution_count": 47,
     "metadata": {},
     "output_type": "execute_result"
    }
   ],
   "source": [
    "y = df5.price\n",
    "y.head(3)"
   ]
  },
  {
   "cell_type": "code",
   "execution_count": 48,
   "id": "23d8ebcc",
   "metadata": {
    "execution": {
     "iopub.execute_input": "2023-11-12T00:44:09.467242Z",
     "iopub.status.busy": "2023-11-12T00:44:09.466441Z",
     "iopub.status.idle": "2023-11-12T00:44:09.774514Z",
     "shell.execute_reply": "2023-11-12T00:44:09.773282Z"
    },
    "papermill": {
     "duration": 0.346149,
     "end_time": "2023-11-12T00:44:09.778104",
     "exception": false,
     "start_time": "2023-11-12T00:44:09.431955",
     "status": "completed"
    },
    "tags": []
   },
   "outputs": [],
   "source": [
    "from sklearn.model_selection import train_test_split\n",
    "X_train, X_test, y_train, y_test = train_test_split(X,y,test_size=0.2 ,random_state=42)"
   ]
  },
  {
   "cell_type": "code",
   "execution_count": 49,
   "id": "f1c4dcbe",
   "metadata": {
    "execution": {
     "iopub.execute_input": "2023-11-12T00:44:09.847213Z",
     "iopub.status.busy": "2023-11-12T00:44:09.846676Z",
     "iopub.status.idle": "2023-11-12T00:44:09.995367Z",
     "shell.execute_reply": "2023-11-12T00:44:09.994380Z"
    },
    "papermill": {
     "duration": 0.188675,
     "end_time": "2023-11-12T00:44:10.000774",
     "exception": false,
     "start_time": "2023-11-12T00:44:09.812099",
     "status": "completed"
    },
    "tags": []
   },
   "outputs": [
    {
     "data": {
      "text/plain": [
       "0.34372437098785846"
      ]
     },
     "execution_count": 49,
     "metadata": {},
     "output_type": "execute_result"
    }
   ],
   "source": [
    "from sklearn.linear_model import LinearRegression\n",
    "lr_clf = LinearRegression()\n",
    "lr_clf.fit(X_train,y_train)\n",
    "lr_clf.score(X_test ,y_test)"
   ]
  },
  {
   "cell_type": "code",
   "execution_count": 50,
   "id": "fb69cb01",
   "metadata": {
    "execution": {
     "iopub.execute_input": "2023-11-12T00:44:10.092803Z",
     "iopub.status.busy": "2023-11-12T00:44:10.091173Z",
     "iopub.status.idle": "2023-11-12T00:44:10.103645Z",
     "shell.execute_reply": "2023-11-12T00:44:10.102401Z"
    },
    "papermill": {
     "duration": 0.051727,
     "end_time": "2023-11-12T00:44:10.106274",
     "exception": false,
     "start_time": "2023-11-12T00:44:10.054547",
     "status": "completed"
    },
    "tags": []
   },
   "outputs": [
    {
     "data": {
      "text/plain": [
       "0.34372437098785846"
      ]
     },
     "execution_count": 50,
     "metadata": {},
     "output_type": "execute_result"
    }
   ],
   "source": [
    "lr_clf.score(X_test ,y_test)"
   ]
  },
  {
   "cell_type": "code",
   "execution_count": 51,
   "id": "e710ef55",
   "metadata": {
    "execution": {
     "iopub.execute_input": "2023-11-12T00:44:10.175410Z",
     "iopub.status.busy": "2023-11-12T00:44:10.174401Z",
     "iopub.status.idle": "2023-11-12T00:44:10.226527Z",
     "shell.execute_reply": "2023-11-12T00:44:10.225265Z"
    },
    "papermill": {
     "duration": 0.089977,
     "end_time": "2023-11-12T00:44:10.229354",
     "exception": false,
     "start_time": "2023-11-12T00:44:10.139377",
     "status": "completed"
    },
    "tags": []
   },
   "outputs": [
    {
     "data": {
      "text/plain": [
       "array([0.26862231, 0.30619124, 0.37984988, 0.29686393, 0.25390208])"
      ]
     },
     "execution_count": 51,
     "metadata": {},
     "output_type": "execute_result"
    }
   ],
   "source": [
    "from sklearn.model_selection import ShuffleSplit\n",
    "from sklearn.model_selection import cross_val_score\n",
    "\n",
    "cv = ShuffleSplit(n_splits=5, test_size=0.2, random_state=0)\n",
    "\n",
    "cross_val_score(LinearRegression(), X, y, cv=cv)"
   ]
  },
  {
   "cell_type": "code",
   "execution_count": 52,
   "id": "608792b1",
   "metadata": {
    "execution": {
     "iopub.execute_input": "2023-11-12T00:44:10.299264Z",
     "iopub.status.busy": "2023-11-12T00:44:10.298721Z",
     "iopub.status.idle": "2023-11-12T00:44:10.958643Z",
     "shell.execute_reply": "2023-11-12T00:44:10.956582Z"
    },
    "papermill": {
     "duration": 0.699081,
     "end_time": "2023-11-12T00:44:10.962078",
     "exception": false,
     "start_time": "2023-11-12T00:44:10.262997",
     "status": "completed"
    },
    "tags": []
   },
   "outputs": [
    {
     "name": "stderr",
     "output_type": "stream",
     "text": [
      "/opt/conda/lib/python3.10/site-packages/sklearn/model_selection/_validation.py:378: FitFailedWarning: \n",
      "10 fits failed out of a total of 20.\n",
      "The score on these train-test partitions for these parameters will be set to nan.\n",
      "If these failures are not expected, you can try to debug them by setting error_score='raise'.\n",
      "\n",
      "Below are more details about the failures:\n",
      "--------------------------------------------------------------------------------\n",
      "10 fits failed with the following error:\n",
      "Traceback (most recent call last):\n",
      "  File \"/opt/conda/lib/python3.10/site-packages/sklearn/model_selection/_validation.py\", line 686, in _fit_and_score\n",
      "    estimator.fit(X_train, y_train, **fit_params)\n",
      "  File \"/opt/conda/lib/python3.10/site-packages/sklearn/tree/_classes.py\", line 1247, in fit\n",
      "    super().fit(\n",
      "  File \"/opt/conda/lib/python3.10/site-packages/sklearn/tree/_classes.py\", line 177, in fit\n",
      "    self._validate_params()\n",
      "  File \"/opt/conda/lib/python3.10/site-packages/sklearn/base.py\", line 600, in _validate_params\n",
      "    validate_parameter_constraints(\n",
      "  File \"/opt/conda/lib/python3.10/site-packages/sklearn/utils/_param_validation.py\", line 97, in validate_parameter_constraints\n",
      "    raise InvalidParameterError(\n",
      "sklearn.utils._param_validation.InvalidParameterError: The 'criterion' parameter of DecisionTreeRegressor must be a str among {'absolute_error', 'squared_error', 'poisson', 'friedman_mse'}. Got 'mse' instead.\n",
      "\n",
      "  warnings.warn(some_fits_failed_message, FitFailedWarning)\n",
      "/opt/conda/lib/python3.10/site-packages/sklearn/model_selection/_search.py:952: UserWarning: One or more of the test scores are non-finite: [       nan        nan 0.70542381 0.67717017]\n",
      "  warnings.warn(\n"
     ]
    },
    {
     "data": {
      "text/html": [
       "<div>\n",
       "<style scoped>\n",
       "    .dataframe tbody tr th:only-of-type {\n",
       "        vertical-align: middle;\n",
       "    }\n",
       "\n",
       "    .dataframe tbody tr th {\n",
       "        vertical-align: top;\n",
       "    }\n",
       "\n",
       "    .dataframe thead th {\n",
       "        text-align: right;\n",
       "    }\n",
       "</style>\n",
       "<table border=\"1\" class=\"dataframe\">\n",
       "  <thead>\n",
       "    <tr style=\"text-align: right;\">\n",
       "      <th></th>\n",
       "      <th>model</th>\n",
       "      <th>best_score</th>\n",
       "      <th>best_params</th>\n",
       "    </tr>\n",
       "  </thead>\n",
       "  <tbody>\n",
       "    <tr>\n",
       "      <th>0</th>\n",
       "      <td>linear_regression</td>\n",
       "      <td>0.301086</td>\n",
       "      <td>{}</td>\n",
       "    </tr>\n",
       "    <tr>\n",
       "      <th>1</th>\n",
       "      <td>lasso</td>\n",
       "      <td>0.191221</td>\n",
       "      <td>{'alpha': 1, 'selection': 'random'}</td>\n",
       "    </tr>\n",
       "    <tr>\n",
       "      <th>2</th>\n",
       "      <td>decision_tree</td>\n",
       "      <td>0.705424</td>\n",
       "      <td>{'criterion': 'friedman_mse', 'splitter': 'best'}</td>\n",
       "    </tr>\n",
       "  </tbody>\n",
       "</table>\n",
       "</div>"
      ],
      "text/plain": [
       "               model  best_score  \\\n",
       "0  linear_regression    0.301086   \n",
       "1              lasso    0.191221   \n",
       "2      decision_tree    0.705424   \n",
       "\n",
       "                                         best_params  \n",
       "0                                                 {}  \n",
       "1                {'alpha': 1, 'selection': 'random'}  \n",
       "2  {'criterion': 'friedman_mse', 'splitter': 'best'}  "
      ]
     },
     "execution_count": 52,
     "metadata": {},
     "output_type": "execute_result"
    }
   ],
   "source": [
    "from sklearn.model_selection import GridSearchCV\n",
    "from sklearn.linear_model import Lasso\n",
    "from sklearn.tree import DecisionTreeRegressor\n",
    "\n",
    "def find_best_model_using_gridsearchcv(X,y):\n",
    "    algos = {\n",
    "        'linear_regression' : {\n",
    "            'model': LinearRegression(),\n",
    "            'params': {\n",
    "                \n",
    "            }\n",
    "        },\n",
    "        'lasso': {\n",
    "            'model': Lasso(),\n",
    "            'params': {\n",
    "                'alpha': [1,2],\n",
    "                'selection': ['random', 'cyclic']\n",
    "            }\n",
    "        },\n",
    "        'decision_tree': {\n",
    "            'model': DecisionTreeRegressor(),\n",
    "            'params': {\n",
    "                'criterion' : ['mse','friedman_mse'],\n",
    "                'splitter': ['best','random']\n",
    "            }\n",
    "        }\n",
    "    }\n",
    "    scores = []\n",
    "    cv = ShuffleSplit(n_splits=5, test_size=0.2, random_state=0)\n",
    "    for algo_name, config in algos.items():\n",
    "        gs =  GridSearchCV(config['model'], config['params'], cv=cv, return_train_score=False)\n",
    "        gs.fit(X,y)\n",
    "        scores.append({\n",
    "            'model': algo_name,\n",
    "            'best_score': gs.best_score_,\n",
    "            'best_params': gs.best_params_\n",
    "        })\n",
    "\n",
    "    return pd.DataFrame(scores,columns=['model','best_score','best_params'])\n",
    "\n",
    "find_best_model_using_gridsearchcv(X,y)"
   ]
  },
  {
   "cell_type": "code",
   "execution_count": 53,
   "id": "ee56b3b1",
   "metadata": {
    "execution": {
     "iopub.execute_input": "2023-11-12T00:44:11.038014Z",
     "iopub.status.busy": "2023-11-12T00:44:11.037462Z",
     "iopub.status.idle": "2023-11-12T00:44:13.003596Z",
     "shell.execute_reply": "2023-11-12T00:44:13.001874Z"
    },
    "papermill": {
     "duration": 2.009632,
     "end_time": "2023-11-12T00:44:13.006907",
     "exception": false,
     "start_time": "2023-11-12T00:44:10.997275",
     "status": "completed"
    },
    "tags": []
   },
   "outputs": [
    {
     "name": "stderr",
     "output_type": "stream",
     "text": [
      "/opt/conda/lib/python3.10/site-packages/sklearn/linear_model/_logistic.py:458: ConvergenceWarning: lbfgs failed to converge (status=1):\n",
      "STOP: TOTAL NO. of ITERATIONS REACHED LIMIT.\n",
      "\n",
      "Increase the number of iterations (max_iter) or scale the data as shown in:\n",
      "    https://scikit-learn.org/stable/modules/preprocessing.html\n",
      "Please also refer to the documentation for alternative solver options:\n",
      "    https://scikit-learn.org/stable/modules/linear_model.html#logistic-regression\n",
      "  n_iter_i = _check_optimize_result(\n"
     ]
    },
    {
     "name": "stdout",
     "output_type": "stream",
     "text": [
      "Linear Regression:\n",
      "Mean Squared Error: 572.9087369873265\n",
      "R^2 Score: 0.34372437098785846\n",
      "\n",
      "K-Nearest Neighbors:\n",
      "Mean Squared Error: 169.96782369146004\n",
      "R^2 Score: 0.8052992855519931\n",
      "\n",
      "Decision Tree:\n",
      "Mean Squared Error: 151.69872877251638\n",
      "R^2 Score: 0.8262268102786364\n",
      "\n",
      "Random Forest:\n",
      "Mean Squared Error: 121.0298454133547\n",
      "R^2 Score: 0.8613584803304393\n",
      "\n",
      "XGBoost:\n",
      "Mean Squared Error: 121.62595165356177\n",
      "R^2 Score: 0.8606756316104021\n"
     ]
    },
    {
     "data": {
      "image/png": "[encoded data removed]",
      "text/plain": [
       "<Figure size 640x480 with 1 Axes>"
      ]
     },
     "metadata": {},
     "output_type": "display_data"
    }
   ],
   "source": [
    "import pandas as pd\n",
    "from sklearn.model_selection import train_test_split\n",
    "from sklearn.linear_model import LinearRegression, LogisticRegression\n",
    "from sklearn.neighbors import KNeighborsRegressor\n",
    "from sklearn.tree import DecisionTreeRegressor\n",
    "from sklearn.ensemble import RandomForestRegressor\n",
    "from xgboost import XGBRegressor\n",
    "from sklearn.metrics import mean_squared_error, r2_score\n",
    "import matplotlib.pyplot as plt\n",
    "\n",
    "# Linear Regression\n",
    "lr_model = LinearRegression()\n",
    "lr_model.fit(X_train, y_train)\n",
    "lr_predictions = lr_model.predict(X_test)\n",
    "\n",
    "# Logistic Regression (for demonstration purposes; not suitable for regression)\n",
    "# Note: Logistic Regression is typically used for classification problems\n",
    "# For regression, consider other algorithms like Linear Regression\n",
    "logistic_model = LogisticRegression()\n",
    "logistic_model.fit(X_train, y_train)\n",
    "logistic_predictions = logistic_model.predict(X_test)\n",
    "\n",
    "# K-Nearest Neighbors\n",
    "knn_model = KNeighborsRegressor()\n",
    "knn_model.fit(X_train, y_train)\n",
    "knn_predictions = knn_model.predict(X_test)\n",
    "\n",
    "# Decision Tree\n",
    "dt_model = DecisionTreeRegressor()\n",
    "dt_model.fit(X_train, y_train)\n",
    "dt_predictions = dt_model.predict(X_test)\n",
    "\n",
    "# Random Forest\n",
    "rf_model = RandomForestRegressor()\n",
    "rf_model.fit(X_train, y_train)\n",
    "rf_predictions = rf_model.predict(X_test)\n",
    "\n",
    "# Extreme Gradient Boosting (XGBoost)\n",
    "xgb_model = XGBRegressor()\n",
    "xgb_model.fit(X_train, y_train)\n",
    "xgb_predictions = xgb_model.predict(X_test)\n",
    "\n",
    "# Evaluate performance\n",
    "def evaluate_model(model, predictions, y_true):\n",
    "    mse = mean_squared_error(y_true, predictions)\n",
    "    r2 = r2_score(y_true, predictions)\n",
    "    print(f\"Mean Squared Error: {mse}\")\n",
    "    print(f\"R^2 Score: {r2}\")\n",
    "\n",
    "# Evaluate Linear Regression\n",
    "print(\"Linear Regression:\")\n",
    "evaluate_model(lr_model, lr_predictions, y_test)\n",
    "\n",
    "# Evaluate K-Nearest Neighbors\n",
    "print(\"\\nK-Nearest Neighbors:\")\n",
    "evaluate_model(knn_model, knn_predictions, y_test)\n",
    "\n",
    "# Evaluate Decision Tree\n",
    "print(\"\\nDecision Tree:\")\n",
    "evaluate_model(dt_model, dt_predictions, y_test)\n",
    "\n",
    "# Evaluate Random Forest\n",
    "print(\"\\nRandom Forest:\")\n",
    "evaluate_model(rf_model, rf_predictions, y_test)\n",
    "\n",
    "# Evaluate XGBoost\n",
    "print(\"\\nXGBoost:\")\n",
    "evaluate_model(xgb_model, xgb_predictions, y_test)\n",
    "\n",
    "# Optionally, plot predictions against true values\n",
    "plt.scatter(y_test, lr_predictions, label='Linear Regression Predictions')\n",
    "plt.xlabel('True Values')\n",
    "plt.ylabel('Predictions')\n",
    "plt.legend()\n",
    "plt.show()\n"
   ]
  },
  {
   "cell_type": "code",
   "execution_count": 54,
   "id": "ade4978d",
   "metadata": {
    "execution": {
     "iopub.execute_input": "2023-11-12T00:44:13.080322Z",
     "iopub.status.busy": "2023-11-12T00:44:13.079823Z",
     "iopub.status.idle": "2023-11-12T00:44:13.096276Z",
     "shell.execute_reply": "2023-11-12T00:44:13.094796Z"
    },
    "papermill": {
     "duration": 0.055118,
     "end_time": "2023-11-12T00:44:13.098671",
     "exception": false,
     "start_time": "2023-11-12T00:44:13.043553",
     "status": "completed"
    },
    "tags": []
   },
   "outputs": [
    {
     "name": "stdout",
     "output_type": "stream",
     "text": [
      "Mean Squared Error: 154.59680039786073\n",
      "R^2 Score: 0.8229070253704039\n"
     ]
    }
   ],
   "source": [
    "# Create and train the Decision Tree Regressor\n",
    "dt_model = DecisionTreeRegressor(random_state=42)\n",
    "dt_model.fit(X_train, y_train)\n",
    "\n",
    "# Make predictions on the test set\n",
    "dt_predictions = dt_model.predict(X_test)\n",
    "\n",
    "# Evaluate model performance\n",
    "mse = mean_squared_error(y_test, dt_predictions)\n",
    "r2 = r2_score(y_test, dt_predictions)\n",
    "\n",
    "print(f\"Mean Squared Error: {mse}\")\n",
    "print(f\"R^2 Score: {r2}\")"
   ]
  },
  {
   "cell_type": "code",
   "execution_count": null,
   "id": "b52c04ef",
   "metadata": {
    "papermill": {
     "duration": 0.035846,
     "end_time": "2023-11-12T00:44:13.169468",
     "exception": false,
     "start_time": "2023-11-12T00:44:13.133622",
     "status": "completed"
    },
    "tags": []
   },
   "outputs": [],
   "source": []
  }
 ],
 "metadata": {
  "kernelspec": {
   "display_name": "Python 3",
   "language": "python",
   "name": "python3"
  },
  "language_info": {
   "codemirror_mode": {
    "name": "ipython",
    "version": 3
   },
   "file_extension": ".py",
   "mimetype": "text/x-python",
   "name": "python",
   "nbconvert_exporter": "python",
   "pygments_lexer": "ipython3",
   "version": "3.10.12"
  },
  "papermill": {
   "default_parameters": {},
   "duration": 18.079414,
   "end_time": "2023-11-12T00:44:14.129283",
   "environment_variables": {},
   "exception": null,
   "input_path": "__notebook__.ipynb",
   "output_path": "__notebook__.ipynb",
   "parameters": {},
   "start_time": "2023-11-12T00:43:56.049869",
   "version": "2.4.0"
  }
 },
 "nbformat": 4,
 "nbformat_minor": 5
}
